{
 "cells": [
  {
   "cell_type": "markdown",
   "metadata": {},
   "source": [
    "<p style=\"text-align: center;\">LICENCIATURA EN CIENCIAS DE LA COMPUTACIÓN</p>\n",
    "<p style=\"text-align: center;\">*Métodos Numéricos*</p>\n",
    "<p style=\"text-align: center;\">**Practica No.4**</p>\n",
    "<p style=\"text-align: center;\">Nombre: Nicolas Alejandro Baak Poot</p>"
   ]
  },
  {
   "cell_type": "markdown",
   "metadata": {},
   "source": [
    "**Instrucciones**\n",
    "<p style=\"text-align: justify;\">\n",
    "Usando eliminación gaussiana con tipos de dato `numpy.half` y `numpy.double` resuelva los siguientes sistemas lineales. También uncuentra la solución usando `scipy.linalg.solve`. Después compara las aproximaciones que obtuviste con la solución real. \n",
    "</p>\n",
    "![Lista de ejercicios](Ejercicio6-2-5.png)"
   ]
  },
  {
   "cell_type": "code",
   "execution_count": 119,
   "metadata": {},
   "outputs": [],
   "source": [
    "from scipy import linalg, mat\n",
    "import numpy as np"
   ]
  },
  {
   "cell_type": "code",
   "execution_count": 137,
   "metadata": {},
   "outputs": [],
   "source": [
    "#Eliminacion gaussiana con sustitución hacia atras\n",
    "# Entrada: matriz aumentada E y el dtype para el vector solucion\n",
    "# salida: vector solucion de tamaño n\n",
    "\n",
    "def Gauss(E, typ):\n",
    "    #numero de filas de la matriz aumentada\n",
    "    n = len(E)\n",
    "    #vector de longitud n\n",
    "    x = np.zeros(n, dtype=typ)\n",
    "    \n",
    "    #proceso de eliminacion\n",
    "    for i in range(n-1):\n",
    "        p = i;\n",
    "        min = abs(E[i,i])\n",
    "        for ii in range(i+1,n):\n",
    "            candidato = abs(E[ii, i])\n",
    "            if candidato > min:\n",
    "                min = candidato\n",
    "                p = ii\n",
    "        if p != i:\n",
    "            for jj in range(i, n+1):\n",
    "                temp = E[p, jj]\n",
    "                E[p, jj] = E[i, jj]\n",
    "                E[i, jj] = temp\n",
    "        \n",
    "        for j in range(i+1, n):\n",
    "            factor = E[j, i]/E[i][i]\n",
    "            for k in range(i, n+1):\n",
    "                E[j, k] = E[j, k] - factor*E[i, k]\n",
    "    \n",
    "    #Si a[n][n] = 0 entonces no existe solución unica\n",
    "    if E[n-1][n-1] == 0:\n",
    "        print(\"No existe solución unica\")\n",
    "        exit()\n",
    "\n",
    "    #Comienza la sustitución hacia atras\n",
    "    x[n-1] = E[n-1, n]/E[n-1, n-1]\n",
    "    \n",
    "    for i in range(n-1, 0-1, -1):\n",
    "        x[i] = E[i]\n",
    "        for j in range(i+1, n):\n",
    "            x[i] = x[i] - E[i, j]*x[j]\n",
    "        x[i] = x[i]/E[i, i]\n",
    "    #procedimiento terminado exitosamente\n",
    "    x = np.transpose([x])\n",
    "    return x"
   ]
  },
  {
   "cell_type": "code",
   "execution_count": 140,
   "metadata": {},
   "outputs": [],
   "source": [
    "#calcula el error relativo del vector solucion y retorna un vector con el error relativo\n",
    "#entrada: vector solucion y vector con los valores reales\n",
    "#salida: vector con el error relativo de cada elemento del vector solucion\n",
    "\n",
    "def errorRelativo(x, real):\n",
    "    resultado = np.zeros(len(x))\n",
    "    for i in range(len(x)):\n",
    "        if(real[i]!=0):\n",
    "            resultado[i] = np.abs(((real[i]-x[i])/real[i]))\n",
    "        else:\n",
    "            resultado[i] = np.abs((real[i]-x[i]))\n",
    "    resultado = np.transpose([resultado])\n",
    "    return resultado"
   ]
  },
  {
   "cell_type": "code",
   "execution_count": 141,
   "metadata": {},
   "outputs": [
    {
     "name": "stdout",
     "output_type": "stream",
     "text": [
      "\n",
      "Soluciones:\n",
      "[[10.]\n",
      " [ 1.]]\n",
      "\n",
      "Error Relativo:\n",
      "[[0.]\n",
      " [0.]]\n"
     ]
    }
   ],
   "source": [
    "#=============================Ejercicio A=====================\n",
    "#Ejercicio A - np.half\n",
    "\n",
    "A = np.array([[0.03,58.9],[5.31,-6.10]], dtype=np.half)\n",
    "b = np.array([[59.2],[47.0]], dtype=np.half)\n",
    "Ab = np.concatenate((A,b),axis=1)\n",
    "\n",
    "x = Gauss(Ab, np.half)\n",
    "print(\"\\nSoluciones:\\n{0}\".format(x))\n",
    "\n",
    "resultado = errorRelativo(x, np.array([10, 1], dtype=np.half))\n",
    "print(\"\\nError Relativo:\\n{0}\".format(resultado))"
   ]
  },
  {
   "cell_type": "code",
   "execution_count": 157,
   "metadata": {},
   "outputs": [
    {
     "name": "stdout",
     "output_type": "stream",
     "text": [
      "\n",
      "Soluciones:\n",
      "[[10.]\n",
      " [ 1.]]\n",
      "\n",
      "Error Relativo:\n",
      "[[1.776e-16]\n",
      " [2.220e-16]]\n"
     ]
    }
   ],
   "source": [
    "# Ejercicio A - np.double\n",
    "\n",
    "A = np.array([[0.03,58.9],[5.31,-6.10]], dtype=np.double)\n",
    "b = np.array([[59.2],[47.0]], dtype=np.double)\n",
    "Ab = np.concatenate((A,b),axis=1)\n",
    "\n",
    "x = Gauss(Ab, np.double)\n",
    "print(\"\\nSoluciones:\\n{0}\".format(x))\n",
    "\n",
    "resultado = errorRelativo(x, np.array([10, 1], dtype=np.double))\n",
    "print(\"\\nError Relativo:\\n{0}\".format(resultado))"
   ]
  },
  {
   "cell_type": "code",
   "execution_count": 143,
   "metadata": {},
   "outputs": [
    {
     "name": "stdout",
     "output_type": "stream",
     "text": [
      "[[10.]\n",
      " [ 1.]]\n"
     ]
    }
   ],
   "source": [
    "# linalg.solve\n",
    "# se obtuvieron los mismos resultados\n",
    "print(linalg.solve(A,b))"
   ]
  },
  {
   "cell_type": "code",
   "execution_count": 144,
   "metadata": {},
   "outputs": [
    {
     "name": "stdout",
     "output_type": "stream",
     "text": [
      "\n",
      "Soluciones:\n",
      "[[ 1.]\n",
      " [10.]]\n",
      "\n",
      "Error Relativo:\n",
      "[[0.]\n",
      " [0.]]\n"
     ]
    }
   ],
   "source": [
    "#============================= Ejercicio B =====================\n",
    "# Ejercicio b - np.half\n",
    "\n",
    "A = np.array([[58.9,0.03],[-6.10,5.31]], dtype=np.half)\n",
    "b = np.array([[59.2],[47.0]], dtype=np.half)\n",
    "Ab = np.concatenate((A,b),axis=1)\n",
    "\n",
    "x = Gauss(Ab, np.half)\n",
    "print(\"\\nSoluciones:\\n{0}\".format(x))\n",
    "\n",
    "resultado = errorRelativo(x, np.array([1, 10], dtype=np.half))\n",
    "print(\"\\nError Relativo:\\n{0}\".format(resultado))"
   ]
  },
  {
   "cell_type": "code",
   "execution_count": 145,
   "metadata": {},
   "outputs": [
    {
     "name": "stdout",
     "output_type": "stream",
     "text": [
      "\n",
      "Soluciones:\n",
      "[[ 1.]\n",
      " [10.]]\n",
      "\n",
      "Error Relativo:\n",
      "[[2.22e-16]\n",
      " [0.00e+00]]\n"
     ]
    }
   ],
   "source": [
    "# Ejercicio b - np.double\n",
    "A = np.array([[58.9,0.03],[-6.10,5.31]], dtype=np.double)\n",
    "b = np.array([[59.2],[47.0]], dtype=np.double)\n",
    "Ab = np.array([[58.9,0.03,59.2],[-6.10,5.31,47.0]], dtype=np.double)\n",
    "\n",
    "x = Gauss(Ab, np.double)\n",
    "print(\"\\nSoluciones:\\n{0}\".format(x))\n",
    "\n",
    "resultado = errorRelativo(x, np.array([1, 10], dtype=np.double))\n",
    "print(\"\\nError Relativo:\\n{0}\".format(resultado))"
   ]
  },
  {
   "cell_type": "code",
   "execution_count": 146,
   "metadata": {},
   "outputs": [
    {
     "name": "stdout",
     "output_type": "stream",
     "text": [
      "[[ 1.]\n",
      " [10.]]\n"
     ]
    }
   ],
   "source": [
    "#linalg.solve\n",
    "\n",
    "print(linalg.solve(A,b))"
   ]
  },
  {
   "cell_type": "code",
   "execution_count": 147,
   "metadata": {},
   "outputs": [
    {
     "name": "stdout",
     "output_type": "stream",
     "text": [
      "\n",
      "Soluciones:\n",
      "[[-0.02 ]\n",
      " [ 9.99 ]\n",
      " [ 0.143]]\n",
      "\n",
      "Error Relativo:\n",
      "[[0.02 ]\n",
      " [0.001]\n",
      " [0.   ]]\n"
     ]
    }
   ],
   "source": [
    "#============================= Ejercicio C =====================\n",
    "# Ejercicio c - np.half\n",
    "\n",
    "A = np.array([[3.03, -12.1, 14],[-3.03, 12.1, -7],[ 6.11, -14.2, 21]], dtype=np.half)\n",
    "b = np.array([[-119],[120],[-139]], dtype=np.half)\n",
    "Ab = np.array([[3.03,-12.1, 14, -119],[ -3.03, 12.1, -7, 120],[ 6.11, -14.2, 21, -139]], dtype=np.half)\n",
    "\n",
    "x = Gauss(Ab, np.half)\n",
    "print(\"\\nSoluciones:\\n{0}\".format(x))\n",
    "resultado = errorRelativo(x, np.array([0, 10, 1/7], dtype=np.half))\n",
    "print(\"\\nError Relativo:\\n{0}\".format(resultado))"
   ]
  },
  {
   "cell_type": "code",
   "execution_count": 159,
   "metadata": {
    "scrolled": true
   },
   "outputs": [
    {
     "name": "stdout",
     "output_type": "stream",
     "text": [
      "\n",
      "Soluciones:\n",
      "[[ 0.   ]\n",
      " [10.   ]\n",
      " [ 0.143]]\n",
      "\n",
      "Error Relativo:\n",
      "[[0.]\n",
      " [0.]\n",
      " [0.]]\n"
     ]
    }
   ],
   "source": [
    "# Ejercicio c - np.double\n",
    "\n",
    "A = np.array([[3.03,-12.1,14],[-3.03,12.1,-7],[6.11,-14.2, 21]], dtype=np.double)\n",
    "b = np.array([[-119],[120],[-139]], dtype=np.double)\n",
    "Ab = np.array([[3.03,-12.1,14,-119],[-3.03,12.1,-7,120],[6.11,-14.2,21,-139]], dtype=np.double)\n",
    "\n",
    "x = Gauss(Ab, np.double)\n",
    "print(\"\\nSoluciones:\\n{0}\".format(x))\n",
    "\n",
    "resultado = errorRelativo(x, np.array([0, 10, 1/7], dtype=np.double))\n",
    "print(\"\\nError Relativo:\\n{0}\".format(resultado))"
   ]
  },
  {
   "cell_type": "code",
   "execution_count": 160,
   "metadata": {},
   "outputs": [
    {
     "name": "stdout",
     "output_type": "stream",
     "text": [
      "[[2.965e-15]\n",
      " [1.000e+01]\n",
      " [1.429e-01]]\n"
     ]
    }
   ],
   "source": [
    "#linalg.solve\n",
    "# half se aproxima al menos al valor real\n",
    "print(linalg.solve(A,b))"
   ]
  },
  {
   "cell_type": "code",
   "execution_count": 150,
   "metadata": {},
   "outputs": [
    {
     "name": "stdout",
     "output_type": "stream",
     "text": [
      "\n",
      "Soluciones:\n",
      "[[ 2.494]\n",
      " [ 0.5  ]\n",
      " [-1.578]]\n",
      "\n",
      "Error Relativo:\n",
      "[[1.494]\n",
      " [0.   ]\n",
      " [0.578]]\n"
     ]
    }
   ],
   "source": [
    "#============================= Ejercicio D =====================\n",
    "# Ejercicio d - np.half\n",
    "A = np.array([[3.3330,15920,10.333],[2.2220,16.710,9.6120],[-1.5611,5.1792,-1.6855]], dtype=np.half)\n",
    "b = np.array([[7953],[0.965],[2.714]], dtype=np.half)\n",
    "Ab = np.array([[3.3330,15920,10.333,7953],[2.2220,16.710,9.6120,0.965],[-1.5611,5.1792,-1.6855,2.714]], dtype=np.half)\n",
    "\n",
    "x = Gauss(Ab, np.half)\n",
    "print(\"\\nSoluciones:\\n{0}\".format(x))\n",
    "\n",
    "resultado = errorRelativo(x, np.array([1, 0.5, -1], dtype=np.half))\n",
    "print(\"\\nError Relativo:\\n{0}\".format(resultado))\n"
   ]
  },
  {
   "cell_type": "code",
   "execution_count": 151,
   "metadata": {},
   "outputs": [
    {
     "name": "stdout",
     "output_type": "stream",
     "text": [
      "\n",
      "Soluciones:\n",
      "[[ 1. ]\n",
      " [ 0.5]\n",
      " [-1. ]]\n",
      "\n",
      "Error Relativo:\n",
      "[[2.990e-13]\n",
      " [0.000e+00]\n",
      " [9.637e-14]]\n"
     ]
    }
   ],
   "source": [
    "# Ejercicio d - np.double\n",
    "A = np.array([[3.3330,15920,10.333],[2.2220,16.710,9.6120],[-1.5611,5.1792,-1.6855]], dtype=np.double)\n",
    "b = np.array([[7953],[0.965],[2.714]], dtype=np.double)\n",
    "Ab = np.array([[3.3330,15920,10.333,7953],[2.2220,16.710,9.6120,0.965],[-1.5611,5.1792,-1.6855,2.714]], dtype=np.double)\n",
    "\n",
    "x = Gauss(Ab, np.double)\n",
    "print(\"\\nSoluciones:\\n{0}\".format(x))\n",
    "\n",
    "resultado = errorRelativo(x, np.array([1, 0.5, -1], dtype=np.double))\n",
    "print(\"\\nError Relativo:\\n{0}\".format(resultado))\n"
   ]
  },
  {
   "cell_type": "code",
   "execution_count": 152,
   "metadata": {},
   "outputs": [
    {
     "name": "stdout",
     "output_type": "stream",
     "text": [
      "[[ 1. ]\n",
      " [ 0.5]\n",
      " [-1. ]]\n"
     ]
    }
   ],
   "source": [
    "#linalg.solve\n",
    "#double tiene una mejor aproximacion a las soluciones reales\n",
    "print(linalg.solve(A,b))"
   ]
  },
  {
   "cell_type": "code",
   "execution_count": 153,
   "metadata": {},
   "outputs": [
    {
     "name": "stdout",
     "output_type": "stream",
     "text": [
      "\n",
      "Soluciones:\n",
      "[[ 0.176]\n",
      " [ 0.013]\n",
      " [-0.021]\n",
      " [-1.192]]\n",
      "\n",
      "Error Relativo:\n",
      "[[0.004]\n",
      " [0.001]\n",
      " [0.005]\n",
      " [0.008]]\n"
     ]
    }
   ],
   "source": [
    "#============================= Ejercicio E =====================\n",
    "# Ejercicio e - np.half\n",
    "A = np.array([[1.19,2.11,-100,1],[14.2,-0.122,12.2,-1],[0,100,-99.9,1],[15.3,0.110,-13.1,-1]], dtype=np.half)\n",
    "b = np.array([[1.12],[3.44],[2.15],[4.16]], dtype=np.half)\n",
    "Ab = np.array([[1.19,2.11,-100,1,1.12],[14.2,-0.122,12.2,-1,3.44],[0,100,-99.9,1,2.15],[15.3,0.110,-13.1,-1,4.16]], dtype=np.half)\n",
    "\n",
    "x = Gauss(Ab, np.half)\n",
    "print(\"\\nSoluciones:\\n{0}\".format(x))\n",
    "\n",
    "resultado = errorRelativo(x, np.array([0.17682530, 0.01269269, -0.02065405, -1.18260870], dtype=np.half))\n",
    "print(\"\\nError Relativo:\\n{0}\".format(resultado))"
   ]
  },
  {
   "cell_type": "code",
   "execution_count": 161,
   "metadata": {},
   "outputs": [
    {
     "name": "stdout",
     "output_type": "stream",
     "text": [
      "\n",
      "Soluciones:\n",
      "[[ 0.177]\n",
      " [ 0.013]\n",
      " [-0.021]\n",
      " [-1.183]]\n",
      "\n",
      "Error Relativo:\n",
      "[[1.414e-08]\n",
      " [6.836e-08]\n",
      " [6.639e-09]\n",
      " [3.832e-09]]\n"
     ]
    }
   ],
   "source": [
    "# Ejercicio e - np.double\n",
    "A = np.array([[1.19,2.11,-100,1],[14.2,-0.122,12.2,-1],[0,100,-99.9,1],[15.3,0.110,-13.1,-1]], dtype=np.double)\n",
    "b = np.array([[1.12],[3.44],[2.15],[4.16]], dtype=np.double)\n",
    "Ab = np.array([[1.19,2.11,-100,1,1.12],[14.2,-0.122,12.2,-1,3.44],[0,100,-99.9,1,2.15],[15.3,0.110,-13.1,-1,4.16]], dtype=np.double)\n",
    "\n",
    "x = Gauss(Ab, np.double)\n",
    "print(\"\\nSoluciones:\\n{0}\".format(x))\n",
    "\n",
    "resultado = errorRelativo(x, np.array([0.17682530, 0.01269269, -0.02065405, -1.18260870], dtype=np.double))\n",
    "print(\"\\nError Relativo:\\n{0}\".format(resultado))"
   ]
  },
  {
   "cell_type": "code",
   "execution_count": 162,
   "metadata": {},
   "outputs": [
    {
     "name": "stdout",
     "output_type": "stream",
     "text": [
      "[[ 0.177]\n",
      " [ 0.013]\n",
      " [-0.021]\n",
      " [-1.183]]\n"
     ]
    }
   ],
   "source": [
    "#linalg.solve\n",
    "\n",
    "print(linalg.solve(A,b))"
   ]
  },
  {
   "cell_type": "code",
   "execution_count": null,
   "metadata": {},
   "outputs": [],
   "source": []
  }
 ],
 "metadata": {
  "kernelspec": {
   "display_name": "Python 3",
   "language": "python",
   "name": "python3"
  },
  "language_info": {
   "codemirror_mode": {
    "name": "ipython",
    "version": 3
   },
   "file_extension": ".py",
   "mimetype": "text/x-python",
   "name": "python",
   "nbconvert_exporter": "python",
   "pygments_lexer": "ipython3",
   "version": "3.8.3"
  },
  "widgets": {
   "application/vnd.jupyter.widget-state+json": {
    "state": {},
    "version_major": 2,
    "version_minor": 0
   }
  }
 },
 "nbformat": 4,
 "nbformat_minor": 2
}
