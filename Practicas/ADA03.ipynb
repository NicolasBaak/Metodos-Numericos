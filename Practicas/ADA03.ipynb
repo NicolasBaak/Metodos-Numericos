{
 "cells": [
  {
   "cell_type": "markdown",
   "metadata": {},
   "source": [
    "<p style=\"text-align: center;\">\n",
    "<font size=\"+1\">\n",
    "Métodos Numéricos\n",
    "</font>    \n",
    "</p>\n",
    "\n",
    "<p style=\"text-align: center;\">\n",
    "<i>ADA 3<br>Ciencias de la Computación<br>Facultad de Matemáticas</i>\n",
    "<br><i>Nombre: Nicolas Alejandro Baak Poot</i>\n",
    "</p>"
   ]
  },
  {
   "cell_type": "markdown",
   "metadata": {},
   "source": [
    "<p style=\"text-align: justify;\">Supon que se tienen las representaciones de punto flotante $fl(x)$ y $fl(y)$ para los números reales $x$ y $y,$ y que los símbolos $\\oplus$, $\\ominus$, $\\otimes$ y $\\oslash$ representan las operaciones de suma, resta, multiplicación y división en la máquina, respectivamente.\n",
    "</p>"
   ]
  },
  {
   "cell_type": "markdown",
   "metadata": {},
   "source": [
    "<p style=\"text-align: justify;\">La clase `spf` del archivo `spf.py` nos permitira emular las operaciones aritméticas con un número finito de cifras dadas por\n",
    "$$\n",
    "x\\oplus y = fl(fl(x)+fl(y)),\\quad\\quad x\\otimes y = fl(fl(x)\\times fl(y)),\\\\\n",
    "x\\ominus y = fl(fl(x)-fl(y)),\\quad\\quad x\\oslash y = fl(fl(x)\\div fl(y)).\n",
    "$$\n",
    "</p>\n",
    "Importamos el archivo:"
   ]
  },
  {
   "cell_type": "code",
   "execution_count": 61,
   "metadata": {},
   "outputs": [],
   "source": [
    "import spf"
   ]
  },
  {
   "cell_type": "markdown",
   "metadata": {},
   "source": [
    "<p style=\"text-align: justify;\">Para emular la reprsentación de $x=1/4$ en el sistema `spf` con 5 dígitos, se hace lo siguiente:</p>"
   ]
  },
  {
   "cell_type": "code",
   "execution_count": 62,
   "metadata": {},
   "outputs": [],
   "source": [
    "x=spf.spf(1/4,digitos=5)"
   ]
  },
  {
   "cell_type": "markdown",
   "metadata": {},
   "source": [
    "<p style=\"text-align: justify;\">Ahora la variable $x$ es un objeto de la clase `spf` con las siguientes propiedades: `val`, `flt`, `v` y `pretty`, donde:</p>\n",
    "\n",
    "* `val` : Es el valor \"real\" de $x$\n",
    "\n",
    "* `flt` : Es el valor en nuestro sistema de punto flotante de $x$\n",
    "\n",
    "* `v`   : Es un arreglo con las cifras decimales y el exponente de $x$, $v=[v_0,v_1,\\dots,v_{digitos}]$, donde el elemento $v_{digitos}$ tiene el exponente incluido el signo.\n",
    "\n",
    "* `pretty` : Convierte el arreglo $v$ en el sistema $(v_1,v_2,\\dots,v_{digitos})$ a una cadena apropiada para imprimir de la forma $0.v_1v_2v_3\\dots v_{digitos-1}\\times 10^{v_{digitos}}$"
   ]
  },
  {
   "cell_type": "code",
   "execution_count": 63,
   "metadata": {},
   "outputs": [
    {
     "data": {
      "text/plain": [
       "(0.25, 0.25, array([2, 5, 0, 0, 0, 0]), '0.25000x10^0')"
      ]
     },
     "execution_count": 63,
     "metadata": {},
     "output_type": "execute_result"
    }
   ],
   "source": [
    "x.val,x.flt,x.v,x.pretty"
   ]
  },
  {
   "cell_type": "markdown",
   "metadata": {},
   "source": [
    "<p style=\"text-align: justify;\">Para las operaciones aritméticas $\\oplus$, $\\ominus$, $\\otimes$ y $\\oslash$ se realizan con la propiedad `aritmetica(arg1, 'op', arg2)`:, donde `arg1` y `arg2`\n",
    " son objetos de la clase `spf` y `op` es un de los operadores $+,-,*,$ o $/.$ Por ejemplo, la suma  $x + y$ se determina como:</p>"
   ]
  },
  {
   "cell_type": "code",
   "execution_count": 64,
   "metadata": {},
   "outputs": [
    {
     "data": {
      "text/plain": [
       "('0.58333x10^0',\n",
       " 0.5833299999999999,\n",
       " 0.5833299999999999,\n",
       " array([5, 8, 3, 3, 3, 0]))"
      ]
     },
     "execution_count": 64,
     "metadata": {},
     "output_type": "execute_result"
    }
   ],
   "source": [
    "#Se define y\n",
    "y=spf.spf(1/3,digitos=5)\n",
    "# Se hace la suma\n",
    "suma = spf.aritmetica(x,'+', y)\n",
    "#Se imprimen sus propiedades\n",
    "suma.pretty, suma.val, suma.flt, suma.v"
   ]
  },
  {
   "cell_type": "markdown",
   "metadata": {},
   "source": [
    "### Ejercicio 1:\n",
    "<p style=\"text-align: justify;\">\n",
    "Supunga que $x=\\frac{5}{7},$ y $y=\\frac{1}{3}$ y que usa el redondeo a cinco cifras para los cálculos aritméticos donde intervienen $x$ y $y$. Usando la clase `spf` calcule y llene los campos faltantes de la siguiente tabla.\n",
    "</p>"
   ]
  },
  {
   "cell_type": "markdown",
   "metadata": {},
   "source": [
    "<table>\n",
    "<tr>\n",
    "<td>Operación</td>\n",
    "<td>Resultado</td>\n",
    "<td>Valor real</td>\n",
    "<td>Error absoluto</td>\n",
    "<td>Error relativo</td>\n",
    "</tr>\n",
    "     <!--Suma-->\n",
    "<tr>\n",
    "<td>$x\\oplus y$</td>\n",
    "<td>$0.10476x10^1$</td>\n",
    "<td>22/21</td>\n",
    "<td>$0.19048x10^-4$</td>\n",
    "<td>$0.18183x10^-4$</td>\n",
    "</tr>\n",
    "     <!--Resta-->\n",
    "<tr>\n",
    "<td>$x\\ominus y$</td>\n",
    "<td>$0.38096x10^0$</td>\n",
    "<td>8/21</td>\n",
    "<td>$0.76190x10^-5$</td>\n",
    "<td>$0.19999x10^-4$</td>\n",
    "</tr>\n",
    "     <!--Multiplicación-->\n",
    "<tr>\n",
    "<td>$x\\otimes y$</td>\n",
    "<td>$0.23809x10^0$</td>\n",
    "<td>5/21</td>\n",
    "<td>$0.52381x10^-5$</td>\n",
    "<td>$0.22001x10^-4$</td>\n",
    "</tr>\n",
    "     <!--Division-->\n",
    "<tr>\n",
    "<td>$x\\oslash y$</td>\n",
    "<td>$0.21429x10^1$</td>\n",
    "<td>15/7</td>\n",
    "<td>$0.42857x10^-4$</td>\n",
    "<td>$0.20000x10^-4$</td>\n",
    "</tr>\n",
    "\n",
    "</table>"
   ]
  },
  {
   "cell_type": "markdown",
   "metadata": {},
   "source": [
    "#### Conclusiones: \n",
    "Al utilizar numeros irracionales como un tercio es donde mas facil observar la limitacion de la computación para la representación de los numeros reales y los errores absolutos y relativos aumentan, sin embargo en este caso ya que el maximo error relativo es $0.22001\\times 10^{-4}$, un numero muy pequeño, la aritmetica produce un resultado aproximado satisfactorio con cinco cifras"
   ]
  },
  {
   "cell_type": "code",
   "execution_count": 65,
   "metadata": {},
   "outputs": [
    {
     "name": "stdout",
     "output_type": "stream",
     "text": [
      "\n",
      "fl(x) = 0.71429x10^0 \n",
      "fl(y) = 0.33333x10^0\n",
      "\n",
      "---Operación--\n",
      "suma:\t\t\t0.10476x10^1\n",
      "resta:\t\t\t0.38096x10^0\n",
      "multiplicación:\t\t0.23809x10^0\n",
      "division:\t\t0.21429x10^1\n"
     ]
    }
   ],
   "source": [
    "#Aqui realiza los cálculos, anexa las celdas que necesites\n",
    "import spf\n",
    "\n",
    "#Se define 'x' y 'y'\n",
    "x = spf.spf((5/7), digitos=5);\n",
    "y = spf.spf((1/3), digitos=5);\n",
    "print('\\nfl(x) = {0} \\nfl(y) = {1}'.format(x.pretty, y.pretty))\n",
    "\n",
    "#Operaciones basicas\n",
    "suma = spf.aritmetica(x, '+', y)\n",
    "resta = spf.aritmetica(x, '-', y)\n",
    "multiplicacion = spf.aritmetica(x, '*', y)\n",
    "division = spf.aritmetica(x, '/', y)\n",
    "\n",
    "print('\\n---Operación--')\n",
    "print('suma:\\t\\t\\t{0}'.format(suma.pretty))\n",
    "print('resta:\\t\\t\\t{0}'.format(resta.pretty))\n",
    "print('multiplicación:\\t\\t{0}'.format(multiplicacion.pretty))\n",
    "print('division:\\t\\t{0}'.format(division.pretty))"
   ]
  },
  {
   "cell_type": "code",
   "execution_count": 66,
   "metadata": {},
   "outputs": [
    {
     "name": "stdout",
     "output_type": "stream",
     "text": [
      "----Error Absoluto----\n",
      "\n",
      "suma:\t\t0.19048x10^-4\n",
      "resta:\t\t0.76190x10^-5\n",
      "multiplicación:\t0.52381x10^-5\n",
      "división:\t0.42857x10^-4\n"
     ]
    }
   ],
   "source": [
    "import numpy as np\n",
    "print('----Error Absoluto----\\n')\n",
    "\n",
    "sumaErAbsoluto = spf.spf((22/21)-suma.flt, digitos=5)\n",
    "print('suma:\\t\\t{0}'.format(sumaErAbsoluto.pretty))\n",
    "\n",
    "restaErAbsoluto = spf.spf((8/21)-resta.flt, digitos=5)\n",
    "print('resta:\\t\\t{0}'.format(restaErAbsoluto.pretty))\n",
    "\n",
    "multiplicacionErAbsoluto = spf.spf((5/21)-multiplicacion.flt, digitos=5)\n",
    "print('multiplicación:\\t{0}'.format(multiplicacionErAbsoluto.pretty))\n",
    "\n",
    "divisionErAbsoluto = spf.spf((15/7)-division.flt, digitos=5)\n",
    "print('división:\\t{0}'.format(divisionErAbsoluto.pretty))"
   ]
  },
  {
   "cell_type": "code",
   "execution_count": 67,
   "metadata": {},
   "outputs": [
    {
     "name": "stdout",
     "output_type": "stream",
     "text": [
      "----Error Relativo-----\n",
      "suma:\t\t0.18183x10^-4\n",
      "resta:\t\t0.19999x10^-4\n",
      "multiplicación:\t0.22001x10^-4\n",
      "división:\t0.20000x10^-4\n"
     ]
    }
   ],
   "source": [
    "print('----Error Relativo-----')\n",
    "\n",
    "sumaErRelativo = spf.aritmetica(sumaErAbsoluto, '/', suma)\n",
    "print('suma:\\t\\t{0}'.format(sumaErRelativo.pretty))\n",
    "\n",
    "restaErRelativo = spf.aritmetica(restaErAbsoluto, '/', resta)\n",
    "print('resta:\\t\\t{0}'.format(restaErRelativo.pretty))\n",
    "\n",
    "multiplicacionErRelativo = spf.aritmetica(multiplicacionErAbsoluto, '/', multiplicacion)\n",
    "print('multiplicación:\\t{0}'.format(multiplicacionErRelativo.pretty))\n",
    "\n",
    "divisionErRelativo = spf.aritmetica(divisionErAbsoluto, '/', division)\n",
    "print('división:\\t{0}'.format(divisionErRelativo.pretty))\n"
   ]
  },
  {
   "cell_type": "markdown",
   "metadata": {},
   "source": [
    "### Ejercicio 2:\n",
    "<p style=\"text-align: justify;\">\n",
    "Suponer que también tienes los siguientes números, \n",
    "$u=0.714251$, $v=98765.9$ y $w=0.111111\\times 10^{-4},$ de modo que $fl(u)=0.71425\\times 10^0,$ $fl(v)=0.98765\\times 10^5$ y $fl(w)=0.11111\\times 10^{-4}.$ Elegimos estos números para ilustrar algunos problemas que pueden surgir con la aritmética cuando se tiene una cantidad finita de cifras.<br>\n",
    "Al igual que en el ejercicio anterior realiza los cálculos con la clase `spf` para llenar los campos que falta en la siguiente tabla:\n",
    "</p>"
   ]
  },
  {
   "cell_type": "markdown",
   "metadata": {},
   "source": [
    "<table>\n",
    "<tr>\n",
    "<td>Operación</td>\n",
    "<td>Resultado</td>\n",
    "<td>Valor real</td>\n",
    "<td>Error absoluto</td>\n",
    "<td>Error relativo</td>\n",
    "</tr>\n",
    "    <!--op1-->\n",
    "<tr>\n",
    "<td>$x\\ominus u$</td>\n",
    "<td>$0.40000\\times 10^{-4}$</td>\n",
    "<td>$0.34714\\times 10^{-4}$</td>\n",
    "<td>$0.52860\\times 10^{-5}$</td>\n",
    "<td>$0.13215\\times 10^{0}$</td>\n",
    "</tr>\n",
    "    <!--op2-->\n",
    "<tr>\n",
    "<td>$(x\\ominus u)\\oslash w$</td>\n",
    "<td>$0.36000\\times 10^{1}$</td>\n",
    "<td>$0.34285\\times 10^{1}$</td>\n",
    "<td>$0.17150\\times 10^{0}$</td>\n",
    "<td>$0.47639\\times 10^{-1}$</td>\n",
    "</tr>\n",
    "    <!--op3-->\n",
    "<tr>\n",
    "<td>$(x\\ominus u)\\otimes v$</td>\n",
    "<td>$0.39506\\times 10^{1}$</td>\n",
    "<td>$0.34285\\times 10^{1}$</td>\n",
    "<td>$0.52210\\times 10^{0}$</td>\n",
    "<td>$0.13216\\times 10^{0}$</td>\n",
    "</tr>\n",
    "    <!--op4-->\n",
    "<tr>\n",
    "<td>$u\\oplus v$</td>\n",
    "<td>$0.98767\\times 10^{5}$</td>\n",
    "<td>$0.98766\\times 10^{5}$</td>\n",
    "<td>$0.10000\\times 10^{1}$</td>\n",
    "<td>$0.10125\\times 10^{-4}$</td>\n",
    "</tr>\n",
    "\n",
    "</table>"
   ]
  },
  {
   "cell_type": "markdown",
   "metadata": {},
   "source": [
    "#### Conclusiones: \n",
    "En el primer caso se observa que ocurre si se operan dos numeros muy cercanos, donde se genera un error absoluto muy pequeño en comparación con el error relativo, que es mayor.\n",
    "\n",
    "El segundo y tercer ejemplo, muestran que una división entre un numero muy pequeño ó una multiplicación por un numero muy grande generan grandes errores absolutos.\n",
    "\n",
    "En el ultimmo se puede observar que al sumar un numero muy grande con un numero muy pequeño se obtiene un error absoluto  grande pero un error relativo mas pequeño.\n",
    "\n",
    "Si el resultado de una operacion ya genera un error, este aumentara al dividir enre un número con magnitud pequeña o multiplicar por un numero de magnitud grande"
   ]
  },
  {
   "cell_type": "code",
   "execution_count": 68,
   "metadata": {},
   "outputs": [
    {
     "name": "stdout",
     "output_type": "stream",
     "text": [
      "fl(x) = 0.71429x10^0\n",
      "fl(u) = 0.71425x10^0\n",
      "fl(v) = 0.98766x10^5\n",
      "fl(w) = 0.11111x10^-4\n",
      "\n",
      "op1: 0.40000x10^-4\n",
      "op2: 0.36000x10^1\n",
      "op3: 0.39506x10^1\n",
      "op4: 0.98767x10^5\n"
     ]
    }
   ],
   "source": [
    "#Aqui realiza los cálculos, anexa las celdas que necesites\n",
    "import numpy as np\n",
    "import spf\n",
    "\n",
    "#Se define x, u, v y w\n",
    "x = spf.spf((5/7), digitos=5);\n",
    "u = spf.spf(0.714251, digitos=5);\n",
    "v = spf.spf(98765.9 , digitos=5);\n",
    "w = spf.spf(0.111111e-4, digitos=5);\n",
    "\n",
    "print('fl(x) = {0}'.format(x.pretty))\n",
    "print('fl(u) = {0}'.format(u.pretty))\n",
    "print('fl(v) = {0}'.format(v.pretty))\n",
    "print('fl(w) = {0}\\n'.format(w.pretty))\n",
    "\n",
    "#Operaciones\n",
    "op1 = spf.aritmetica(x, '-', u)\n",
    "op2 = spf.aritmetica(op1, '/', w)\n",
    "op3 = spf.aritmetica(op1, '*', v)\n",
    "op4 = spf.aritmetica(u, '+', v)\n",
    "\n",
    "\n",
    "print('op1: {0}'.format(op1.pretty))\n",
    "print('op2: {0}'.format(op2.pretty))\n",
    "print('op3: {0}'.format(op3.pretty))\n",
    "print('op4: {0}'.format(op4.pretty))"
   ]
  },
  {
   "cell_type": "code",
   "execution_count": 69,
   "metadata": {},
   "outputs": [
    {
     "name": "stdout",
     "output_type": "stream",
     "text": [
      "----Error Absoluto----\n",
      "\n",
      "op1:\t0.52860x10^-5\n",
      "op2:\t0.17150x10^0\n",
      "op3:\t0.52210x10^0\n",
      "op4:\t0.10000x10^1\n"
     ]
    }
   ],
   "source": [
    "import numpy as np\n",
    "print('----Error Absoluto----\\n')\n",
    " \n",
    "valorRealOp1 = spf.spf(0.34714e-4, digitos=5);\n",
    "op1ErAbsoluto = spf.aritmetica(valorRealOp1, '-', op1)\n",
    "print('op1:\\t{0}'.format(op1ErAbsoluto.pretty))\n",
    "\n",
    "valorRealOp2 = spf.spf(0.34285e1, digitos=5);\n",
    "op2ErAbsoluto = spf.aritmetica(valorRealOp2, '-', op2)\n",
    "print('op2:\\t{0}'.format(op2ErAbsoluto.pretty))\n",
    "\n",
    "valorRealOp3 = spf.spf(0.34285e1, digitos=5);\n",
    "op3ErAbsoluto = spf.aritmetica(valorRealOp3, '-', op3)\n",
    "print('op3:\\t{0}'.format(op3ErAbsoluto.pretty))\n",
    "\n",
    "valorRealOp4 = spf.spf(0.98766e5, digitos=5);\n",
    "op4ErAbsoluto = spf.aritmetica(valorRealOp4, '-', op4)\n",
    "print('op4:\\t{0}'.format(op4ErAbsoluto.pretty))\n"
   ]
  },
  {
   "cell_type": "code",
   "execution_count": 70,
   "metadata": {},
   "outputs": [
    {
     "name": "stdout",
     "output_type": "stream",
     "text": [
      "----Error Relativo-----\n",
      "op1:\t0.13215x10^0\n",
      "op2:\t0.47639x10^-1\n",
      "op3:\t0.13216x10^0\n",
      "op4:\t0.10125x10^-4\n"
     ]
    }
   ],
   "source": [
    "print('----Error Relativo-----')\n",
    "\n",
    "op1ErRelativo = spf.aritmetica(op1ErAbsoluto, '/', op1)\n",
    "print('op1:\\t{0}'.format(op1ErRelativo.pretty))\n",
    "\n",
    "op2ErRelativo = spf.aritmetica(op2ErAbsoluto, '/', op2)\n",
    "print('op2:\\t{0}'.format(op2ErRelativo.pretty))\n",
    "\n",
    "op3ErRelativo = spf.aritmetica(op3ErAbsoluto, '/', op3)\n",
    "print('op3:\\t{0}'.format(op3ErRelativo.pretty))\n",
    "\n",
    "op4ErRelativo = spf.aritmetica(op4ErAbsoluto, '/', op4)\n",
    "print('op4:\\t{0}'.format(op4ErRelativo.pretty))\n"
   ]
  },
  {
   "cell_type": "markdown",
   "metadata": {},
   "source": [
    "### Ejercicio 3:\n",
    "<p style=\"text-align: justify;\">\n",
    "La perdida de precisión debida a un error de redondeo también se puede reducir reordenando los cálculos, como se muestra en este ejercicio. <br>\n",
    "Evalúa $f(x)=x^3-6.1x^2+3.2x+1.5$ en $x=4.71$ con una aritmética de tres dígitos. En la tabla que sigue, llena la celda y fila faltante.\n",
    "</p>"
   ]
  },
  {
   "cell_type": "markdown",
   "metadata": {},
   "source": [
    "<table>\n",
    "<tr>\n",
    "<td></td>\n",
    "<td>$x$</td>\n",
    "<td>$x^2$</td>\n",
    "<td>$x^3$</td>\n",
    "<td>$6.1x^2$</td>\n",
    "<td>$3.2x$</td>\n",
    "<td>$f(x)$</td>\n",
    "<td>$f(x)$ anidada</td>\n",
    "</tr>\n",
    "<tr>\n",
    "<td>\"Exacto\"</td>\n",
    "<td>$4.71$</td>\n",
    "<td>$22.1841$</td>\n",
    "<td>$104.487111$</td>\n",
    "<td>$135.32301$</td>\n",
    "<td>$15.072$</td>\n",
    "<td>$-14.263899$</td>\n",
    "<td>$-14.263899$</td>\n",
    "</tr>\n",
    "<tr>\n",
    "<td>Tres dígitos</td>\n",
    "<td>$0.471x10^1$</td>\n",
    "<td>$0.222x10^2$</td>\n",
    "<td>$0.105x10^3$</td>\n",
    "<td>$0.135x10^3$</td>\n",
    "<td>$0.151x10^2$</td>\n",
    "<td>$-13.4$</td>\n",
    "<td>$-14.3$</td>\n",
    "</tr>\n",
    "</table>"
   ]
  },
  {
   "cell_type": "markdown",
   "metadata": {},
   "source": [
    "Ahora determina el error relativo de la evaluación de $f$ sin ordenar y el error que se tiene al ordenar antes de evaluar. Anota los valores en la tabla que sigue:"
   ]
  },
  {
   "cell_type": "markdown",
   "metadata": {},
   "source": [
    "<table>\n",
    "<tr>\n",
    "    <td></td>\n",
    "    <td>$fl(f(x))$</td>\n",
    "    <td>$fl(f(x))$ anidada</td>\n",
    "</tr>\n",
    "<tr>\n",
    "    <td>Error relativo</td>\n",
    "    <td>$0.06$</td>\n",
    "    <td>$0.0025$</td>\n",
    "</tr>\n",
    "</table>"
   ]
  },
  {
   "cell_type": "markdown",
   "metadata": {},
   "source": [
    "#### Conclusiones: \n",
    "Se puede observar como los tres digitos se redondean al valor \"exacto\"  lo que aproxima mucho a los valores reales de las partes que componen la ecuación.\n",
    "\n",
    "Ademas al calcular el error relativo es evidemente que al anidar f(x) se redujo drasticamente  el error relativo, ya que al anidar se reduce el numero de multiplicaciónes a favor de sumas y restas mas \"sencillas\", ya que las multiplicaciónes pueden producir errores, como observamos en el ejercicio anterior."
   ]
  },
  {
   "cell_type": "code",
   "execution_count": 71,
   "metadata": {},
   "outputs": [
    {
     "name": "stdout",
     "output_type": "stream",
     "text": [
      "x = 0.471x10^1\n",
      "x^2 = 0.222x10^2\n",
      "x^3 = 0.105x10^3\n",
      "6.1x^2 = 0.135x10^3\n",
      "3.2x = 0.151x10^2\n",
      "f(x) \"tres digitos\" = -13.4\n",
      "\n",
      "f(x) \"Exacto\" = -14.263899000000011\n",
      "Error Relativo fl(f(x)): 0.0606\n",
      "\n",
      "f(x) \"anidada\" = -14.3\n",
      "Error Relativo fl(f(x)) anidada: 0.00253\n"
     ]
    }
   ],
   "source": [
    "import spf\n",
    "#Tabla \n",
    "x = spf.spf(4.71, digitos=3);\n",
    "print('x = '+ x.pretty);\n",
    "\n",
    "x2 = spf.aritmetica(x, '*', x);\n",
    "print('x^2 = '+x2.pretty);\n",
    "\n",
    "x3 = spf.aritmetica(x, '*', x2);\n",
    "print('x^3 = '+x3.pretty);\n",
    "\n",
    "seisUno = spf.spf(6.1, digitos=3)\n",
    "seisUnoX2 = spf.aritmetica(seisUno, '*', x2)\n",
    "print('6.1x^2 = '+seisUnoX2.pretty)\n",
    "\n",
    "tresDos = spf.spf(3.2, digitos=3)\n",
    "tresDosX = spf.aritmetica(tresDos, '*', x)\n",
    "print('3.2x = '+tresDosX.pretty)\n",
    "\n",
    "\n",
    "unoCinco = spf.spf(1.5, digitos=3)\n",
    "\n",
    "#f(x) tres digitos, sumamos todo lo anterior\n",
    "fx_tresDigitos = spf.aritmetica(x3,'-',seisUnoX2)\n",
    "fx_tresDigitos = spf.aritmetica(fx_tresDigitos, '+',tresDosX)\n",
    "fx_tresDigitos = spf.aritmetica(fx_tresDigitos, '+',unoCinco)\n",
    "print('f(x) \"tres digitos\" = {0}'.format(fx_tresDigitos.flt))\n",
    "\n",
    "#f(x) \"exacto\"\n",
    "fxExacto = pow(4.71, 3) - 6.1*pow(4.71,2)+(3.2 *4.71)+1.5\n",
    "print('\\nf(x) \"Exacto\" = {0}'.format(fxExacto))\n",
    "\n",
    "#Error relativo fl(f(x))\n",
    "ErrorRelativo = spf.spf(np.abs((fxExacto-fx_tresDigitos.flt)/fxExacto), digitos=3)\n",
    "print('Error Relativo fl(f(x)): {0:}'.format(ErrorRelativo.flt))\n",
    "\n",
    "\n",
    "#Anidada f(x) = x^3 - 6.1x^2 + 3.2x + 1.5 = ((x-6.1)x + 3.2)x + 1.5\n",
    "fxAnidado = spf.aritmetica(x,'-',seisUno)\n",
    "fxAnidado = spf.aritmetica(fxAnidado,'*',x)\n",
    "fxAnidado = spf.aritmetica(fxAnidado,'+',tresDos)\n",
    "fxAnidado = spf.aritmetica(fxAnidado,'*',x)\n",
    "fxAnidado = spf.aritmetica(fxAnidado,'+',unoCinco)\n",
    "print('\\nf(x) \"anidada\" = {0}'.format(fxAnidado.flt))\n",
    "\n",
    "#Error relativo anidada\n",
    "ErrorRelativoAnidado = spf.spf(np.abs((fxExacto-fxAnidado.flt)/fxExacto), digitos=3)\n",
    "print('Error Relativo fl(f(x)) anidada: {0:}'.format(ErrorRelativoAnidado.flt))\n"
   ]
  },
  {
   "cell_type": "code",
   "execution_count": null,
   "metadata": {},
   "outputs": [],
   "source": []
  }
 ],
 "metadata": {
  "kernelspec": {
   "display_name": "Python 3",
   "language": "python",
   "name": "python3"
  },
  "language_info": {
   "codemirror_mode": {
    "name": "ipython",
    "version": 3
   },
   "file_extension": ".py",
   "mimetype": "text/x-python",
   "name": "python",
   "nbconvert_exporter": "python",
   "pygments_lexer": "ipython3",
   "version": "3.7.6"
  },
  "widgets": {
   "application/vnd.jupyter.widget-state+json": {
    "state": {},
    "version_major": 2,
    "version_minor": 0
   }
  }
 },
 "nbformat": 4,
 "nbformat_minor": 2
}
