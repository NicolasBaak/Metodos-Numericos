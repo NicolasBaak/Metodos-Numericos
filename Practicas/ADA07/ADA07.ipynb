{
 "cells": [
  {
   "cell_type": "markdown",
   "metadata": {},
   "source": [
    "<p style=\"text-align: center;\">LICENCIATURA EN CIENCIAS DE LA COMPUTACIÓN</p>\n",
    "<p style=\"text-align: center;\">*Métodos Numéricos*</p>\n",
    "<p style=\"text-align: center;\">**Practica No.7**</p>\n",
    "<p style=\"text-align: center;\">Nombre: Nicolas Alejandro Baak Poot</p>"
   ]
  },
  {
   "cell_type": "code",
   "execution_count": 1,
   "metadata": {},
   "outputs": [],
   "source": [
    "from sympy import * \n",
    "import numpy as np\n",
    "import scipy.linalg as la\n",
    "init_printing(use_unicode=True, wrap_line=True, no_global=True)"
   ]
  },
  {
   "cell_type": "markdown",
   "metadata": {},
   "source": [
    "# Conjunto de ejercicios 7.2"
   ]
  },
  {
   "cell_type": "markdown",
   "metadata": {},
   "source": [
    "#### 1. Calcule los valores característicos y los vectores característicos asociados de las siguientes matrices."
   ]
  },
  {
   "cell_type": "code",
   "execution_count": 2,
   "metadata": {},
   "outputs": [
    {
     "data": {
      "text/latex": [
       "$\\displaystyle \\left[\\begin{matrix}2 & -1\\\\-1 & 2\\end{matrix}\\right]$"
      ],
      "text/plain": [
       "⎡2   -1⎤\n",
       "⎢      ⎥\n",
       "⎣-1  2 ⎦"
      ]
     },
     "execution_count": 2,
     "metadata": {},
     "output_type": "execute_result"
    }
   ],
   "source": [
    "a =  Matrix([[2, -1], [-1, 2]])\n",
    "\n",
    "#evala es igual eigenvalor de a\n",
    "evala = list(a.eigenvals().keys())\n",
    "\n",
    "#eveca es igual a eigenvector de a\n",
    "eveca = a.eigenvects()\n",
    "\n",
    "a"
   ]
  },
  {
   "cell_type": "code",
   "execution_count": 3,
   "metadata": {},
   "outputs": [
    {
     "data": {
      "image/png": "[encoded data removed]",
      "text/latex": [
       "$\\displaystyle \\left[ 3, \\  1\\right]$"
      ],
      "text/plain": [
       "[3, 1]"
      ]
     },
     "execution_count": 3,
     "metadata": {},
     "output_type": "execute_result"
    }
   ],
   "source": [
    "evala"
   ]
  },
  {
   "cell_type": "code",
   "execution_count": 4,
   "metadata": {},
   "outputs": [
    {
     "data": {
      "text/latex": [
       "$\\displaystyle \\left[ \\left( 1, \\  1, \\  \\left[ \\left[\\begin{matrix}1\\\\1\\end{matrix}\\right]\\right]\\right), \\  \\left( 3, \\  1, \\  \\left[ \\left[\\begin{matrix}-1\\\\1\\end{matrix}\\right]\\right]\\right)\\right]$"
      ],
      "text/plain": [
       "⎡⎛      ⎡⎡1⎤⎤⎞  ⎛      ⎡⎡-1⎤⎤⎞⎤\n",
       "⎢⎜1, 1, ⎢⎢ ⎥⎥⎟, ⎜3, 1, ⎢⎢  ⎥⎥⎟⎥\n",
       "⎣⎝      ⎣⎣1⎦⎦⎠  ⎝      ⎣⎣1 ⎦⎦⎠⎦"
      ]
     },
     "execution_count": 4,
     "metadata": {},
     "output_type": "execute_result"
    }
   ],
   "source": [
    "#Se imprime un diccionario donde cada entrada tiene la siguiente forma (eigenvalor, multiplicidad, eigenvector)\n",
    "eveca"
   ]
  },
  {
   "cell_type": "code",
   "execution_count": 5,
   "metadata": {},
   "outputs": [
    {
     "data": {
      "text/latex": [
       "$\\displaystyle \\left[\\begin{matrix}0 & 1\\\\1 & 1\\end{matrix}\\right]$"
      ],
      "text/plain": [
       "⎡0  1⎤\n",
       "⎢    ⎥\n",
       "⎣1  1⎦"
      ]
     },
     "execution_count": 5,
     "metadata": {},
     "output_type": "execute_result"
    }
   ],
   "source": [
    "b =  Matrix([[0, 1], [1, 1]])\n",
    "evalb = list(b.eigenvals().keys())\n",
    "evecb = b.eigenvects()\n",
    "b"
   ]
  },
  {
   "cell_type": "code",
   "execution_count": 6,
   "metadata": {},
   "outputs": [
    {
     "data": {
      "image/png": "[encoded data removed]",
      "text/latex": [
       "$\\displaystyle \\left[ \\frac{1}{2} - \\frac{\\sqrt{5}}{2}, \\  \\frac{1}{2} + \\frac{\\sqrt{5}}{2}\\right]$"
      ],
      "text/plain": [
       "⎡1   √5  1   √5⎤\n",
       "⎢─ - ──, ─ + ──⎥\n",
       "⎣2   2   2   2 ⎦"
      ]
     },
     "execution_count": 6,
     "metadata": {},
     "output_type": "execute_result"
    }
   ],
   "source": [
    "evalb"
   ]
  },
  {
   "cell_type": "code",
   "execution_count": 7,
   "metadata": {},
   "outputs": [
    {
     "data": {
      "text/latex": [
       "$\\displaystyle \\left[ \\left( \\frac{1}{2} - \\frac{\\sqrt{5}}{2}, \\  1, \\  \\left[ \\left[\\begin{matrix}- \\frac{1}{- \\frac{1}{2} + \\frac{\\sqrt{5}}{2}}\\\\1\\end{matrix}\\right]\\right]\\right), \\  \\left( \\frac{1}{2} + \\frac{\\sqrt{5}}{2}, \\  1, \\  \\left[ \\left[\\begin{matrix}\\frac{2}{1 + \\sqrt{5}}\\\\1\\end{matrix}\\right]\\right]\\right)\\right]$"
      ],
      "text/plain": [
       "⎡⎛           ⎡⎡  -1    ⎤⎤⎞                         ⎤\n",
       "⎢⎜           ⎢⎢────────⎥⎥⎟  ⎛           ⎡⎡  2   ⎤⎤⎞⎥\n",
       "⎢⎜1   √5     ⎢⎢  1   √5⎥⎥⎟  ⎜1   √5     ⎢⎢──────⎥⎥⎟⎥\n",
       "⎢⎜─ - ──, 1, ⎢⎢- ─ + ──⎥⎥⎟, ⎜─ + ──, 1, ⎢⎢1 + √5⎥⎥⎟⎥\n",
       "⎢⎜2   2      ⎢⎢  2   2 ⎥⎥⎟  ⎜2   2      ⎢⎢      ⎥⎥⎟⎥\n",
       "⎢⎜           ⎢⎢        ⎥⎥⎟  ⎝           ⎣⎣  1   ⎦⎦⎠⎥\n",
       "⎣⎝           ⎣⎣   1    ⎦⎦⎠                         ⎦"
      ]
     },
     "execution_count": 7,
     "metadata": {},
     "output_type": "execute_result"
    }
   ],
   "source": [
    "#Se imprime un diccionario donde cada entrada tiene la siguiente forma (eigenvalor, multiplicidad, eigenvector)\n",
    "evecb"
   ]
  },
  {
   "cell_type": "code",
   "execution_count": 8,
   "metadata": {},
   "outputs": [
    {
     "data": {
      "text/latex": [
       "$\\displaystyle \\left[\\begin{matrix}0 & 0.5\\\\0.5 & 0\\end{matrix}\\right]$"
      ],
      "text/plain": [
       "⎡ 0   0.5⎤\n",
       "⎢        ⎥\n",
       "⎣0.5   0 ⎦"
      ]
     },
     "execution_count": 8,
     "metadata": {},
     "output_type": "execute_result"
    }
   ],
   "source": [
    "c =  Matrix([[0, 1/2], [1/2, 0]])\n",
    "evalc = list(c.eigenvals().keys())\n",
    "evecc = c.eigenvects()\n",
    "c"
   ]
  },
  {
   "cell_type": "code",
   "execution_count": 9,
   "metadata": {},
   "outputs": [
    {
     "data": {
      "image/png": "[encoded data removed]",
      "text/latex": [
       "$\\displaystyle \\left[ -0.5, \\  0.5\\right]$"
      ],
      "text/plain": [
       "[-0.5, 0.5]"
      ]
     },
     "execution_count": 9,
     "metadata": {},
     "output_type": "execute_result"
    }
   ],
   "source": [
    "evalc"
   ]
  },
  {
   "cell_type": "code",
   "execution_count": 10,
   "metadata": {},
   "outputs": [
    {
     "data": {
      "text/latex": [
       "$\\displaystyle \\left[ \\left( -0.5, \\  1, \\  \\left[ \\left[\\begin{matrix}-0.707106781186548\\\\0.707106781186548\\end{matrix}\\right]\\right]\\right), \\  \\left( 0.5, \\  1, \\  \\left[ \\left[\\begin{matrix}-0.707106781186548\\\\-0.707106781186548\\end{matrix}\\right]\\right]\\right)\\right]$"
      ],
      "text/plain": [
       "⎡⎛         ⎡⎡-0.707106781186548⎤⎤⎞  ⎛        ⎡⎡-0.707106781186548⎤⎤⎞⎤\n",
       "⎢⎜-0.5, 1, ⎢⎢                  ⎥⎥⎟, ⎜0.5, 1, ⎢⎢                  ⎥⎥⎟⎥\n",
       "⎣⎝         ⎣⎣0.707106781186548 ⎦⎦⎠  ⎝        ⎣⎣-0.707106781186548⎦⎦⎠⎦"
      ]
     },
     "execution_count": 10,
     "metadata": {},
     "output_type": "execute_result"
    }
   ],
   "source": [
    "#Se imprime un diccionario donde cada entrada tiene la siguiente forma (eigenvalor, multiplicidad, eigenvector)\n",
    "\n",
    "evecc"
   ]
  },
  {
   "cell_type": "code",
   "execution_count": 11,
   "metadata": {},
   "outputs": [
    {
     "data": {
      "text/latex": [
       "$\\displaystyle \\left[\\begin{matrix}1 & 1\\\\-2 & -2\\end{matrix}\\right]$"
      ],
      "text/plain": [
       "⎡1   1 ⎤\n",
       "⎢      ⎥\n",
       "⎣-2  -2⎦"
      ]
     },
     "execution_count": 11,
     "metadata": {},
     "output_type": "execute_result"
    }
   ],
   "source": [
    "d =  Matrix([[1, 1], [-2, -2]])\n",
    "evald = list(d.eigenvals().keys())\n",
    "evecd = d.eigenvects()\n",
    "d"
   ]
  },
  {
   "cell_type": "code",
   "execution_count": 12,
   "metadata": {},
   "outputs": [
    {
     "data": {
      "image/png": "[encoded data removed]",
      "text/latex": [
       "$\\displaystyle \\left[ -1, \\  0\\right]$"
      ],
      "text/plain": [
       "[-1, 0]"
      ]
     },
     "execution_count": 12,
     "metadata": {},
     "output_type": "execute_result"
    }
   ],
   "source": [
    "evald"
   ]
  },
  {
   "cell_type": "code",
   "execution_count": 13,
   "metadata": {},
   "outputs": [
    {
     "data": {
      "text/latex": [
       "$\\displaystyle \\left[ \\left( -1, \\  1, \\  \\left[ \\left[\\begin{matrix}- \\frac{1}{2}\\\\1\\end{matrix}\\right]\\right]\\right), \\  \\left( 0, \\  1, \\  \\left[ \\left[\\begin{matrix}-1\\\\1\\end{matrix}\\right]\\right]\\right)\\right]$"
      ],
      "text/plain": [
       "⎡⎛       ⎡⎡-1/2⎤⎤⎞  ⎛      ⎡⎡-1⎤⎤⎞⎤\n",
       "⎢⎜-1, 1, ⎢⎢    ⎥⎥⎟, ⎜0, 1, ⎢⎢  ⎥⎥⎟⎥\n",
       "⎣⎝       ⎣⎣ 1  ⎦⎦⎠  ⎝      ⎣⎣1 ⎦⎦⎠⎦"
      ]
     },
     "execution_count": 13,
     "metadata": {},
     "output_type": "execute_result"
    }
   ],
   "source": [
    "#Se imprime un diccionario donde cada entrada tiene la siguiente forma (eigenvalor, multiplicidad, eigenvector)\n",
    "\n",
    "evecd"
   ]
  },
  {
   "cell_type": "code",
   "execution_count": 14,
   "metadata": {},
   "outputs": [
    {
     "data": {
      "text/latex": [
       "$\\displaystyle \\left[\\begin{matrix}2 & 1 & 0\\\\1 & 2 & 0\\\\0 & 0 & 3\\end{matrix}\\right]$"
      ],
      "text/plain": [
       "⎡2  1  0⎤\n",
       "⎢       ⎥\n",
       "⎢1  2  0⎥\n",
       "⎢       ⎥\n",
       "⎣0  0  3⎦"
      ]
     },
     "execution_count": 14,
     "metadata": {},
     "output_type": "execute_result"
    }
   ],
   "source": [
    "e =  Matrix([[2, 1, 0], [ 1, 2, 0],[ 0, 0, 3]])\n",
    "evale = list(e.eigenvals().keys())\n",
    "evece = e.eigenvects()\n",
    "e"
   ]
  },
  {
   "cell_type": "code",
   "execution_count": 15,
   "metadata": {},
   "outputs": [
    {
     "data": {
      "image/png": "[encoded data removed]",
      "text/latex": [
       "$\\displaystyle \\left[ 1, \\  3\\right]$"
      ],
      "text/plain": [
       "[1, 3]"
      ]
     },
     "execution_count": 15,
     "metadata": {},
     "output_type": "execute_result"
    }
   ],
   "source": [
    "evale"
   ]
  },
  {
   "cell_type": "code",
   "execution_count": 16,
   "metadata": {},
   "outputs": [
    {
     "data": {
      "text/latex": [
       "$\\displaystyle \\left[ \\left( 1, \\  1, \\  \\left[ \\left[\\begin{matrix}-1\\\\1\\\\0\\end{matrix}\\right]\\right]\\right), \\  \\left( 3, \\  2, \\  \\left[ \\left[\\begin{matrix}1\\\\1\\\\0\\end{matrix}\\right], \\  \\left[\\begin{matrix}0\\\\0\\\\1\\end{matrix}\\right]\\right]\\right)\\right]$"
      ],
      "text/plain": [
       "⎡⎛      ⎡⎡-1⎤⎤⎞  ⎛      ⎡⎡1⎤  ⎡0⎤⎤⎞⎤\n",
       "⎢⎜      ⎢⎢  ⎥⎥⎟  ⎜      ⎢⎢ ⎥  ⎢ ⎥⎥⎟⎥\n",
       "⎢⎜1, 1, ⎢⎢1 ⎥⎥⎟, ⎜3, 2, ⎢⎢1⎥, ⎢0⎥⎥⎟⎥\n",
       "⎢⎜      ⎢⎢  ⎥⎥⎟  ⎜      ⎢⎢ ⎥  ⎢ ⎥⎥⎟⎥\n",
       "⎣⎝      ⎣⎣0 ⎦⎦⎠  ⎝      ⎣⎣0⎦  ⎣1⎦⎦⎠⎦"
      ]
     },
     "execution_count": 16,
     "metadata": {},
     "output_type": "execute_result"
    }
   ],
   "source": [
    "#Se imprime un diccionario donde cada entrada tiene la siguiente forma (eigenvalor, multiplicidad, eigenvector)\n",
    "\n",
    "evece"
   ]
  },
  {
   "cell_type": "code",
   "execution_count": 17,
   "metadata": {},
   "outputs": [
    {
     "data": {
      "text/latex": [
       "$\\displaystyle \\left[\\begin{matrix}-1 & 2 & 0\\\\0 & 3 & 4\\\\0 & 0 & 7\\end{matrix}\\right]$"
      ],
      "text/plain": [
       "⎡-1  2  0⎤\n",
       "⎢        ⎥\n",
       "⎢0   3  4⎥\n",
       "⎢        ⎥\n",
       "⎣0   0  7⎦"
      ]
     },
     "execution_count": 17,
     "metadata": {},
     "output_type": "execute_result"
    }
   ],
   "source": [
    "f =  Matrix([[-1, 2, 0], [ 0, 3, 4],[ 0, 0, 7]])\n",
    "evalf = list(f.eigenvals().keys())\n",
    "evecf = f.eigenvects()\n",
    "f"
   ]
  },
  {
   "cell_type": "code",
   "execution_count": 18,
   "metadata": {},
   "outputs": [
    {
     "data": {
      "image/png": "[encoded data removed]",
      "text/latex": [
       "$\\displaystyle \\left[ -1, \\  3, \\  7\\right]$"
      ],
      "text/plain": [
       "[-1, 3, 7]"
      ]
     },
     "execution_count": 18,
     "metadata": {},
     "output_type": "execute_result"
    }
   ],
   "source": [
    "evalf"
   ]
  },
  {
   "cell_type": "code",
   "execution_count": 19,
   "metadata": {},
   "outputs": [
    {
     "data": {
      "text/latex": [
       "$\\displaystyle \\left[ \\left( -1, \\  1, \\  \\left[ \\left[\\begin{matrix}1\\\\0\\\\0\\end{matrix}\\right]\\right]\\right), \\  \\left( 3, \\  1, \\  \\left[ \\left[\\begin{matrix}\\frac{1}{2}\\\\1\\\\0\\end{matrix}\\right]\\right]\\right), \\  \\left( 7, \\  1, \\  \\left[ \\left[\\begin{matrix}\\frac{1}{4}\\\\1\\\\1\\end{matrix}\\right]\\right]\\right)\\right]$"
      ],
      "text/plain": [
       "⎡⎛       ⎡⎡1⎤⎤⎞  ⎛      ⎡⎡1/2⎤⎤⎞  ⎛      ⎡⎡1/4⎤⎤⎞⎤\n",
       "⎢⎜       ⎢⎢ ⎥⎥⎟  ⎜      ⎢⎢   ⎥⎥⎟  ⎜      ⎢⎢   ⎥⎥⎟⎥\n",
       "⎢⎜-1, 1, ⎢⎢0⎥⎥⎟, ⎜3, 1, ⎢⎢ 1 ⎥⎥⎟, ⎜7, 1, ⎢⎢ 1 ⎥⎥⎟⎥\n",
       "⎢⎜       ⎢⎢ ⎥⎥⎟  ⎜      ⎢⎢   ⎥⎥⎟  ⎜      ⎢⎢   ⎥⎥⎟⎥\n",
       "⎣⎝       ⎣⎣0⎦⎦⎠  ⎝      ⎣⎣ 0 ⎦⎦⎠  ⎝      ⎣⎣ 1 ⎦⎦⎠⎦"
      ]
     },
     "execution_count": 19,
     "metadata": {},
     "output_type": "execute_result"
    }
   ],
   "source": [
    "#Se imprime un diccionario donde cada entrada tiene la siguiente forma (eigenvalor, multiplicidad, eigenvector)\n",
    "\n",
    "evecf"
   ]
  },
  {
   "cell_type": "code",
   "execution_count": 20,
   "metadata": {},
   "outputs": [
    {
     "data": {
      "text/latex": [
       "$\\displaystyle \\left[\\begin{matrix}2 & 1 & 1\\\\2 & 3 & 2\\\\1 & 1 & 2\\end{matrix}\\right]$"
      ],
      "text/plain": [
       "⎡2  1  1⎤\n",
       "⎢       ⎥\n",
       "⎢2  3  2⎥\n",
       "⎢       ⎥\n",
       "⎣1  1  2⎦"
      ]
     },
     "execution_count": 20,
     "metadata": {},
     "output_type": "execute_result"
    }
   ],
   "source": [
    "g =  Matrix([[2, 1, 1], [ 2, 3, 2],[ 1, 1, 2]])\n",
    "evalg = list(g.eigenvals().keys())\n",
    "evecg = g.eigenvects()\n",
    "g"
   ]
  },
  {
   "cell_type": "code",
   "execution_count": 21,
   "metadata": {},
   "outputs": [
    {
     "data": {
      "image/png": "[encoded data removed]",
      "text/latex": [
       "$\\displaystyle \\left[ 5, \\  1\\right]$"
      ],
      "text/plain": [
       "[5, 1]"
      ]
     },
     "execution_count": 21,
     "metadata": {},
     "output_type": "execute_result"
    }
   ],
   "source": [
    "evalg"
   ]
  },
  {
   "cell_type": "code",
   "execution_count": 22,
   "metadata": {},
   "outputs": [
    {
     "data": {
      "text/latex": [
       "$\\displaystyle \\left[ \\left( 1, \\  2, \\  \\left[ \\left[\\begin{matrix}-1\\\\1\\\\0\\end{matrix}\\right], \\  \\left[\\begin{matrix}-1\\\\0\\\\1\\end{matrix}\\right]\\right]\\right), \\  \\left( 5, \\  1, \\  \\left[ \\left[\\begin{matrix}1\\\\2\\\\1\\end{matrix}\\right]\\right]\\right)\\right]$"
      ],
      "text/plain": [
       "⎡⎛      ⎡⎡-1⎤  ⎡-1⎤⎤⎞  ⎛      ⎡⎡1⎤⎤⎞⎤\n",
       "⎢⎜      ⎢⎢  ⎥  ⎢  ⎥⎥⎟  ⎜      ⎢⎢ ⎥⎥⎟⎥\n",
       "⎢⎜1, 2, ⎢⎢1 ⎥, ⎢0 ⎥⎥⎟, ⎜5, 1, ⎢⎢2⎥⎥⎟⎥\n",
       "⎢⎜      ⎢⎢  ⎥  ⎢  ⎥⎥⎟  ⎜      ⎢⎢ ⎥⎥⎟⎥\n",
       "⎣⎝      ⎣⎣0 ⎦  ⎣1 ⎦⎦⎠  ⎝      ⎣⎣1⎦⎦⎠⎦"
      ]
     },
     "execution_count": 22,
     "metadata": {},
     "output_type": "execute_result"
    }
   ],
   "source": [
    "#Se imprime un diccionario donde cada entrada tiene la siguiente forma (eigenvalor, multiplicidad, eigenvector)\n",
    "\n",
    "evecg"
   ]
  },
  {
   "cell_type": "code",
   "execution_count": 23,
   "metadata": {},
   "outputs": [
    {
     "data": {
      "text/latex": [
       "$\\displaystyle \\left[\\begin{matrix}3 & 2 & -1\\\\1 & -2 & 3\\\\2 & 0 & 4\\end{matrix}\\right]$"
      ],
      "text/plain": [
       "⎡3  2   -1⎤\n",
       "⎢         ⎥\n",
       "⎢1  -2  3 ⎥\n",
       "⎢         ⎥\n",
       "⎣2  0   4 ⎦"
      ]
     },
     "execution_count": 23,
     "metadata": {},
     "output_type": "execute_result"
    }
   ],
   "source": [
    "h =  Matrix([[3, 2, -1], [ 1, -2, 3],[ 2, 0, 4]])\n",
    "evalh = list(h.eigenvals().keys())\n",
    "evech = h.eigenvects()\n",
    "h"
   ]
  },
  {
   "cell_type": "code",
   "execution_count": 24,
   "metadata": {},
   "outputs": [
    {
     "data": {
      "image/png": "[encoded data removed]",
      "text/latex": [
       "$\\displaystyle \\left[ 4, \\  3, \\  -2\\right]$"
      ],
      "text/plain": [
       "[4, 3, -2]"
      ]
     },
     "execution_count": 24,
     "metadata": {},
     "output_type": "execute_result"
    }
   ],
   "source": [
    "evalh"
   ]
  },
  {
   "cell_type": "code",
   "execution_count": 25,
   "metadata": {},
   "outputs": [
    {
     "data": {
      "text/latex": [
       "$\\displaystyle \\left[ \\left( -2, \\  1, \\  \\left[ \\left[\\begin{matrix}-3\\\\8\\\\1\\end{matrix}\\right]\\right]\\right), \\  \\left( 3, \\  1, \\  \\left[ \\left[\\begin{matrix}- \\frac{1}{2}\\\\\\frac{1}{2}\\\\1\\end{matrix}\\right]\\right]\\right), \\  \\left( 4, \\  1, \\  \\left[ \\left[\\begin{matrix}0\\\\\\frac{1}{2}\\\\1\\end{matrix}\\right]\\right]\\right)\\right]$"
      ],
      "text/plain": [
       "⎡⎛       ⎡⎡-3⎤⎤⎞  ⎛      ⎡⎡-1/2⎤⎤⎞  ⎛      ⎡⎡ 0 ⎤⎤⎞⎤\n",
       "⎢⎜       ⎢⎢  ⎥⎥⎟  ⎜      ⎢⎢    ⎥⎥⎟  ⎜      ⎢⎢   ⎥⎥⎟⎥\n",
       "⎢⎜-2, 1, ⎢⎢8 ⎥⎥⎟, ⎜3, 1, ⎢⎢1/2 ⎥⎥⎟, ⎜4, 1, ⎢⎢1/2⎥⎥⎟⎥\n",
       "⎢⎜       ⎢⎢  ⎥⎥⎟  ⎜      ⎢⎢    ⎥⎥⎟  ⎜      ⎢⎢   ⎥⎥⎟⎥\n",
       "⎣⎝       ⎣⎣1 ⎦⎦⎠  ⎝      ⎣⎣ 1  ⎦⎦⎠  ⎝      ⎣⎣ 1 ⎦⎦⎠⎦"
      ]
     },
     "execution_count": 25,
     "metadata": {},
     "output_type": "execute_result"
    }
   ],
   "source": [
    "#Se imprime un diccionario donde cada entrada tiene la siguiente forma (eigenvalor, multiplicidad, eigenvector)\n",
    "\n",
    "evech"
   ]
  },
  {
   "cell_type": "markdown",
   "metadata": {},
   "source": [
    "#### 2. Calcule el radio espectral de las matrices del ejercicio 1.\n",
    "<p>El radio espectral se define como: $p(A)=max_{\\lambda}|\\lambda|$ donde $\\lambda$ corresponde a los eigenvalores de $A$</p>"
   ]
  },
  {
   "cell_type": "code",
   "execution_count": 26,
   "metadata": {},
   "outputs": [
    {
     "data": {
      "image/png": "[encoded data removed]",
      "text/latex": [
       "$\\displaystyle 3$"
      ],
      "text/plain": [
       "3"
      ]
     },
     "execution_count": 26,
     "metadata": {},
     "output_type": "execute_result"
    }
   ],
   "source": [
    "radioEspA = max(np.abs(evala))\n",
    "radioEspA"
   ]
  },
  {
   "cell_type": "code",
   "execution_count": 27,
   "metadata": {},
   "outputs": [
    {
     "data": {
      "image/png": "[encoded data removed]",
      "text/latex": [
       "$\\displaystyle \\frac{1}{2} + \\frac{\\sqrt{5}}{2}$"
      ],
      "text/plain": [
       "1   √5\n",
       "─ + ──\n",
       "2   2 "
      ]
     },
     "execution_count": 27,
     "metadata": {},
     "output_type": "execute_result"
    }
   ],
   "source": [
    "radioEspB = max(np.abs(evalb))\n",
    "radioEspB"
   ]
  },
  {
   "cell_type": "code",
   "execution_count": 28,
   "metadata": {},
   "outputs": [
    {
     "data": {
      "image/png": "[encoded data removed]",
      "text/latex": [
       "$\\displaystyle 0.5$"
      ],
      "text/plain": [
       "0.500000000000000"
      ]
     },
     "execution_count": 28,
     "metadata": {},
     "output_type": "execute_result"
    }
   ],
   "source": [
    "radioEspC = max(np.abs(evalc))\n",
    "radioEspC"
   ]
  },
  {
   "cell_type": "code",
   "execution_count": 29,
   "metadata": {},
   "outputs": [
    {
     "data": {
      "image/png": "[encoded data removed]",
      "text/latex": [
       "$\\displaystyle 1$"
      ],
      "text/plain": [
       "1"
      ]
     },
     "execution_count": 29,
     "metadata": {},
     "output_type": "execute_result"
    }
   ],
   "source": [
    "radioEspD = max(np.abs(evald))\n",
    "radioEspD"
   ]
  },
  {
   "cell_type": "code",
   "execution_count": 30,
   "metadata": {},
   "outputs": [
    {
     "data": {
      "image/png": "[encoded data removed]",
      "text/latex": [
       "$\\displaystyle 3$"
      ],
      "text/plain": [
       "3"
      ]
     },
     "execution_count": 30,
     "metadata": {},
     "output_type": "execute_result"
    }
   ],
   "source": [
    "radioEspE = max(np.abs(evale))\n",
    "radioEspE"
   ]
  },
  {
   "cell_type": "code",
   "execution_count": 31,
   "metadata": {},
   "outputs": [
    {
     "data": {
      "image/png": "[encoded data removed]",
      "text/latex": [
       "$\\displaystyle 7$"
      ],
      "text/plain": [
       "7"
      ]
     },
     "execution_count": 31,
     "metadata": {},
     "output_type": "execute_result"
    }
   ],
   "source": [
    "radioEspF = max(np.abs(evalf))\n",
    "radioEspF"
   ]
  },
  {
   "cell_type": "code",
   "execution_count": 32,
   "metadata": {},
   "outputs": [
    {
     "data": {
      "image/png": "[encoded data removed]",
      "text/latex": [
       "$\\displaystyle 5$"
      ],
      "text/plain": [
       "5"
      ]
     },
     "execution_count": 32,
     "metadata": {},
     "output_type": "execute_result"
    }
   ],
   "source": [
    "radioEspG = max(np.abs(evalg))\n",
    "radioEspG"
   ]
  },
  {
   "cell_type": "code",
   "execution_count": 33,
   "metadata": {},
   "outputs": [
    {
     "data": {
      "image/png": "[encoded data removed]",
      "text/latex": [
       "$\\displaystyle 4$"
      ],
      "text/plain": [
       "4"
      ]
     },
     "execution_count": 33,
     "metadata": {},
     "output_type": "execute_result"
    }
   ],
   "source": [
    "radioEspH = max(np.abs(evalh))\n",
    "radioEspH"
   ]
  },
  {
   "cell_type": "markdown",
   "metadata": {},
   "source": [
    "##### 3. ¿Cuáles de las matrices del ejercicio 1 son convergentes?"
   ]
  },
  {
   "cell_type": "markdown",
   "metadata": {},
   "source": [
    "**Teorema 7.17**\n",
    "\n",
    "Las siguientes afirmaciones son equivalentes.\n",
    "<br>\n",
    "\n",
    "**(i)** $A$ es una matriz convergente.\n",
    "<br>\n",
    "\n",
    "**(ii)** $\\lim_{n\\rightarrow\\infty}\\parallel A^n\\parallel =0$ para alguna norma natural.\n",
    "<br>\n",
    " \n",
    "**(iii)** $\\lim_{n\\rightarrow\\infty}\\parallel A^n\\parallel =0$ para todas las normas naturales.\n",
    "<br>\n",
    "\n",
    "**(iv)** $\\rho(A)<1.$\n",
    "<br>\n",
    "\n",
    "**(v)** $\\lim_{n\\rightarrow\\infty}A^nx =0,$ para toda $x.$\n",
    "</p>\n",
    "<p> Ya que en los pasos anterior hemos calculado el radio espectral pues usaremos $p(\\lambda)<1$ para afirmar o negar si una matriz es convergente</p>"
   ]
  },
  {
   "cell_type": "code",
   "execution_count": 34,
   "metadata": {},
   "outputs": [],
   "source": [
    "def convergente(radioEsp, nombre):\n",
    "    print(\"La matriz {0} \".format(nombre),end=\"\")\n",
    "    print(\"es convergente\") if (radioEsp < 1) else print(\"NO es convergente\")"
   ]
  },
  {
   "cell_type": "code",
   "execution_count": 35,
   "metadata": {},
   "outputs": [
    {
     "name": "stdout",
     "output_type": "stream",
     "text": [
      "La matriz a NO es convergente\n"
     ]
    }
   ],
   "source": [
    "convergente(radioEspA, \"a\")"
   ]
  },
  {
   "cell_type": "code",
   "execution_count": 36,
   "metadata": {},
   "outputs": [
    {
     "name": "stdout",
     "output_type": "stream",
     "text": [
      "La matriz b NO es convergente\n"
     ]
    }
   ],
   "source": [
    "convergente(radioEspB, \"b\")"
   ]
  },
  {
   "cell_type": "code",
   "execution_count": 37,
   "metadata": {},
   "outputs": [
    {
     "name": "stdout",
     "output_type": "stream",
     "text": [
      "La matriz c es convergente\n"
     ]
    }
   ],
   "source": [
    "convergente(radioEspC, \"c\")"
   ]
  },
  {
   "cell_type": "code",
   "execution_count": 38,
   "metadata": {},
   "outputs": [
    {
     "name": "stdout",
     "output_type": "stream",
     "text": [
      "La matriz d NO es convergente\n"
     ]
    }
   ],
   "source": [
    "convergente(radioEspD, \"d\")"
   ]
  },
  {
   "cell_type": "code",
   "execution_count": 39,
   "metadata": {},
   "outputs": [
    {
     "name": "stdout",
     "output_type": "stream",
     "text": [
      "La matriz e NO es convergente\n"
     ]
    }
   ],
   "source": [
    "convergente(radioEspE, \"e\")"
   ]
  },
  {
   "cell_type": "code",
   "execution_count": 40,
   "metadata": {},
   "outputs": [
    {
     "name": "stdout",
     "output_type": "stream",
     "text": [
      "La matriz f NO es convergente\n"
     ]
    }
   ],
   "source": [
    "convergente(radioEspF, \"f\")"
   ]
  },
  {
   "cell_type": "code",
   "execution_count": 41,
   "metadata": {},
   "outputs": [
    {
     "name": "stdout",
     "output_type": "stream",
     "text": [
      "La matriz g NO es convergente\n"
     ]
    }
   ],
   "source": [
    "convergente(radioEspG, \"g\")"
   ]
  },
  {
   "cell_type": "code",
   "execution_count": 42,
   "metadata": {},
   "outputs": [
    {
     "name": "stdout",
     "output_type": "stream",
     "text": [
      "La matriz h NO es convergente\n"
     ]
    }
   ],
   "source": [
    "convergente(radioEspH, \"h\")"
   ]
  },
  {
   "cell_type": "markdown",
   "metadata": {},
   "source": [
    "#### 4. Sean A1 y A2. Demuestra que A1 no es convergente, pero A2 es convergente"
   ]
  },
  {
   "cell_type": "markdown",
   "metadata": {},
   "source": [
    "<p>Calculamos el radio espectral de la matriz A1 y utilizando el teorema 7.17 planteado anteriormente, podremos afirmar si A1 es convergente o no lo es</p>"
   ]
  },
  {
   "cell_type": "code",
   "execution_count": 43,
   "metadata": {},
   "outputs": [
    {
     "data": {
      "text/latex": [
       "$\\displaystyle \\left[\\begin{matrix}1 & 0\\\\\\frac{1}{4} & \\frac{1}{2}\\end{matrix}\\right]$"
      ],
      "text/plain": [
       "⎡ 1    0 ⎤\n",
       "⎢        ⎥\n",
       "⎣1/4  1/2⎦"
      ]
     },
     "execution_count": 43,
     "metadata": {},
     "output_type": "execute_result"
    }
   ],
   "source": [
    "A1 = Matrix([[1, 0],[Rational(1,4), Rational(1,2)]])\n",
    "evalA1 = list(A1.eigenvals().keys())\n",
    "evecA1 = A1.eigenvects()\n",
    "radioEspA1 = max(np.abs(evalA1))\n",
    "A1"
   ]
  },
  {
   "cell_type": "code",
   "execution_count": 44,
   "metadata": {},
   "outputs": [
    {
     "name": "stdout",
     "output_type": "stream",
     "text": [
      "La matriz A1 NO es convergente\n"
     ]
    }
   ],
   "source": [
    "convergente(radioEspA1, \"A1\")"
   ]
  },
  {
   "cell_type": "code",
   "execution_count": 45,
   "metadata": {},
   "outputs": [
    {
     "data": {
      "text/latex": [
       "$\\displaystyle \\left[\\begin{matrix}0.5 & 0\\\\16 & 0.5\\end{matrix}\\right]$"
      ],
      "text/plain": [
       "⎡0.5   0 ⎤\n",
       "⎢        ⎥\n",
       "⎣16   0.5⎦"
      ]
     },
     "execution_count": 45,
     "metadata": {},
     "output_type": "execute_result"
    }
   ],
   "source": [
    "#Calculos los mismos valores para demostrar si A2 es convergente\n",
    "\n",
    "A2 = Matrix([[1/2, 0], [16, 1/2]])\n",
    "evalA2 = list(A2.eigenvals().keys())\n",
    "evecA2 = A2.eigenvects()\n",
    "radioEspA2 = max(np.abs(evalA2))\n",
    "A2"
   ]
  },
  {
   "cell_type": "code",
   "execution_count": 46,
   "metadata": {},
   "outputs": [
    {
     "name": "stdout",
     "output_type": "stream",
     "text": [
      "La matriz A2 es convergente\n"
     ]
    }
   ],
   "source": [
    "convergente(radioEspA2, \"A2\")"
   ]
  },
  {
   "cell_type": "markdown",
   "metadata": {},
   "source": [
    "##### 5. Obtenga $||.||_{2}$ para todas las matrices del ejercicio 1."
   ]
  },
  {
   "cell_type": "code",
   "execution_count": 47,
   "metadata": {},
   "outputs": [
    {
     "name": "stdout",
     "output_type": "stream",
     "text": [
      "2.9999999999999996\n"
     ]
    }
   ],
   "source": [
    "a =  np.array([[2, -1], [-1, 2]])\n",
    "\n",
    "print(la.norm(a, ord=2))"
   ]
  },
  {
   "cell_type": "code",
   "execution_count": 48,
   "metadata": {},
   "outputs": [
    {
     "name": "stdout",
     "output_type": "stream",
     "text": [
      "1.618033988749895\n"
     ]
    }
   ],
   "source": [
    "b = np.array([[0, 1], [1, 1]])\n",
    "\n",
    "print(la.norm(b, ord=2))"
   ]
  },
  {
   "cell_type": "code",
   "execution_count": 49,
   "metadata": {},
   "outputs": [
    {
     "name": "stdout",
     "output_type": "stream",
     "text": [
      "0.5\n"
     ]
    }
   ],
   "source": [
    "c = np.array([[0,1/2],[1/2,0]])\n",
    "print(la.norm(c, ord=2))"
   ]
  },
  {
   "cell_type": "code",
   "execution_count": 50,
   "metadata": {},
   "outputs": [
    {
     "name": "stdout",
     "output_type": "stream",
     "text": [
      "3.16227766016838\n"
     ]
    }
   ],
   "source": [
    "d = np.array([[1,1],[-2,-2]])\n",
    "print(la.norm(d, ord=2))"
   ]
  },
  {
   "cell_type": "code",
   "execution_count": 51,
   "metadata": {},
   "outputs": [
    {
     "name": "stdout",
     "output_type": "stream",
     "text": [
      "3.0\n"
     ]
    }
   ],
   "source": [
    "e = np.array([[2,1,0],[1,2,0],[0,0,3]])\n",
    "print(la.norm(e, ord=2))"
   ]
  },
  {
   "cell_type": "code",
   "execution_count": 52,
   "metadata": {},
   "outputs": [
    {
     "name": "stdout",
     "output_type": "stream",
     "text": [
      "8.22425724795816\n"
     ]
    }
   ],
   "source": [
    "f = np.array([[-1,2,0],[0,3,4],[0,0,7]])\n",
    "print(la.norm(f, ord=2))"
   ]
  },
  {
   "cell_type": "code",
   "execution_count": 53,
   "metadata": {},
   "outputs": [
    {
     "name": "stdout",
     "output_type": "stream",
     "text": [
      "5.203527345044131\n"
     ]
    }
   ],
   "source": [
    "g = np.array([[2,1,1],[2,3,2],[1,1,2]])\n",
    "print(la.norm(g, ord=2))"
   ]
  },
  {
   "cell_type": "code",
   "execution_count": 54,
   "metadata": {},
   "outputs": [
    {
     "name": "stdout",
     "output_type": "stream",
     "text": [
      "5.601152483569071\n"
     ]
    }
   ],
   "source": [
    "h =  np.array([[3, 2, -1], [ 1, -2, 3],[ 2, 0, 4]])\n",
    "print(la.norm(h, ord=2))"
   ]
  },
  {
   "cell_type": "markdown",
   "metadata": {},
   "source": [
    "### Conclusión: "
   ]
  },
  {
   "cell_type": "markdown",
   "metadata": {},
   "source": [
    "Quedo muy sorprendido con la facilidad que ofrecen los modulos de sympy, numpy y scipy para el calculo y manejo de matrices, un proceso que tardaria mucho hacer a mano queda resuelto en segundos por python.\n",
    "Ademas el uso de la convergencia es util para la resolucion de metodos iterativos que se realizara en posteriores ADAs y en general para la resolución de sistemas de ecuaciones, por lo que facilitar la demostracion de convergencia para un ejercicio facilita mucho el calculo que tengamos que hacer en un futuro y nos permite centrarnos en obtener datos significativos y no cometer errores a la hora de calcular nuestros resultados."
   ]
  },
  {
   "cell_type": "code",
   "execution_count": null,
   "metadata": {},
   "outputs": [],
   "source": []
  }
 ],
 "metadata": {
  "kernelspec": {
   "display_name": "Python 3",
   "language": "python",
   "name": "python3"
  },
  "language_info": {
   "codemirror_mode": {
    "name": "ipython",
    "version": 3
   },
   "file_extension": ".py",
   "mimetype": "text/x-python",
   "name": "python",
   "nbconvert_exporter": "python",
   "pygments_lexer": "ipython3",
   "version": "3.8.3"
  }
 },
 "nbformat": 4,
 "nbformat_minor": 4
}
