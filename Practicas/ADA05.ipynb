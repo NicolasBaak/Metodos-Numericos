{
 "cells": [
  {
   "cell_type": "markdown",
   "metadata": {},
   "source": [
    "<p style=\"text-align: center;\">LICENCIATURA EN CIENCIAS DE LA COMPUTACIÓN</p>\n",
    "<p style=\"text-align: center;\">*Métodos Numéricos*</p>\n",
    "<p style=\"text-align: center;\">**Practica No.5**</p>\n",
    "<p style=\"text-align: center;\">Nombre: Nicolas Alejandro Baak Poot</p>"
   ]
  },
  {
   "cell_type": "markdown",
   "metadata": {},
   "source": [
    "**Instrucciones**\n",
    "<p style=\"text-align: justify;\">\n",
    "En un Notebook  y usando los recursos de python, crea el proceso para usar la factorización LU implementada en python (scipy, sympy, etc) de manera que permita resolver un sistema de ecuaciones lineales. Aplique su proceso a los sistemas lineales listados en el Conjunto de Ejercicios 6.5 inciso 4.</p>"
   ]
  },
  {
   "cell_type": "code",
   "execution_count": 3,
   "metadata": {},
   "outputs": [],
   "source": [
    "import scipy.linalg as la\n",
    "import numpy as np"
   ]
  },
  {
   "cell_type": "code",
   "execution_count": 4,
   "metadata": {},
   "outputs": [],
   "source": [
    "def factorizacionLU(A, b):\n",
    "    # Sea A una matriz que se puede escribir de la forma A = LU\n",
    "    # donde L es ua matriz triangular inferior y U es una matriz escalonada\n",
    "    # => Sea Ax = b\n",
    "    # => Ax = (LU)x = L(Ux)\n",
    "    # Una posible estrategia de solucón consiste en tomar y = Ux y resolver para 'y'\n",
    "    # => Ly = b\n",
    "    # luego se resuelve\n",
    "    # => Ux = y \n",
    "    \n",
    "    # n: número de filas de A\n",
    "    n = len(A)\n",
    "    #matriz identidad con n filas\n",
    "    L = np.identity(n)\n",
    "    U = np.copy(A)\n",
    "    y = np.zeros(n)\n",
    "    x = np.zeros(n)\n",
    "    \n",
    "    #Descomposición de A para obtener L y U\n",
    "    for i in range(0, n-1):\n",
    "        for j in range(i+1, n):\n",
    "            L[j, i] = U[j, i]/U[ i, i]\n",
    "            for k in range(i, n):\n",
    "                U[j, k] = U[j, k] - L[j, i]*U[i, k]\n",
    "    \n",
    "    # teniendo L y U \n",
    "    # sea L_inv el inverso multiplicativo de L\n",
    "    # Ly = b\n",
    "    # => (L_inv)(L)(y) = (L_inv)(b)\n",
    "    # => y =  (L_inv)(b)\n",
    "    L_inv = np.linalg.inv(L)\n",
    "    y = L_inv @ b\n",
    "    print(y)\n",
    "    # sea U_inv el inverso multiplicativo de U\n",
    "    # (U)(x) = y\n",
    "    # (U_inv)(U)(x) = (U_inv)(y)\n",
    "    # x = (U_inv)(y)\n",
    "    U_inv = np.linalg.inv(U)\n",
    "    x = U_inv @ y\n",
    "        \n",
    "    #procedimiento terminado exitosamente\n",
    "    x = np.transpose([x])\n",
    "    return x"
   ]
  },
  {
   "cell_type": "code",
   "execution_count": 5,
   "metadata": {},
   "outputs": [
    {
     "name": "stdout",
     "output_type": "stream",
     "text": [
      "[[-1. ]\n",
      " [ 1.5]\n",
      " [ 4. ]]\n",
      "Resultados de x:\n",
      "[[[ 1.0625]\n",
      "  [ 2.125 ]\n",
      "  [-1.    ]]]\n"
     ]
    }
   ],
   "source": [
    "#--------------------Ejercicio A------------------------------------\n",
    "A = np.array([[2, -1, 1],\n",
    "              [3, 3, 9],\n",
    "              [3, 3, 5]])\n",
    "\n",
    "b = np.array([[-1],[0],[4]])\n",
    "\n",
    "#Ejecutamos el algoritmo y obtenemos el vector resultado x\n",
    "x = factorizacionLU(A, b)\n",
    "print(\"Resultados de x:\")\n",
    "print(x)"
   ]
  },
  {
   "cell_type": "code",
   "execution_count": 4,
   "metadata": {},
   "outputs": [
    {
     "name": "stdout",
     "output_type": "stream",
     "text": [
      "Resultados de x:\n",
      "[[ 1.]\n",
      " [ 2.]\n",
      " [-1.]]\n"
     ]
    }
   ],
   "source": [
    "#comprobando con linalg.solve A\n",
    "lu, piv = la.lu_factor(A)\n",
    "x = la.lu_solve((lu, piv), b)\n",
    "\n",
    "print(\"Resultados de x:\")\n",
    "print(x)"
   ]
  },
  {
   "cell_type": "code",
   "execution_count": 5,
   "metadata": {},
   "outputs": [
    {
     "name": "stdout",
     "output_type": "stream",
     "text": [
      "Resultados de x:\n",
      "[[[1.]\n",
      "  [1.]\n",
      "  [1.]]]\n"
     ]
    }
   ],
   "source": [
    "#--------------------Ejercicio B------------------------------------\n",
    "A = np.array([[1.012, -2.132, 3.104],\n",
    "              [-2.132, 4.096, -7.013],\n",
    "              [3.104, -7.013, 0.014]])\n",
    "\n",
    "b = np.array([[1.984],[-5.049],[-3.895]])\n",
    "\n",
    "print(\"Resultados de x:\")\n",
    "x = factorizacionLU(A, b)\n",
    "print(x)"
   ]
  },
  {
   "cell_type": "code",
   "execution_count": 6,
   "metadata": {},
   "outputs": [
    {
     "name": "stdout",
     "output_type": "stream",
     "text": [
      "[[1.]\n",
      " [1.]\n",
      " [1.]]\n"
     ]
    }
   ],
   "source": [
    "# comprobando con linalg.solve B\n",
    "lu, piv = la.lu_factor(A)\n",
    "x = la.lu_solve((lu, piv), b)\n",
    "print(x)"
   ]
  },
  {
   "cell_type": "code",
   "execution_count": 7,
   "metadata": {},
   "outputs": [
    {
     "name": "stdout",
     "output_type": "stream",
     "text": [
      "Resultados de x:\n",
      "[[[ 1.5]\n",
      "  [ 2. ]\n",
      "  [-1.2]\n",
      "  [ 3. ]]]\n"
     ]
    }
   ],
   "source": [
    "#--------------------Ejercicio C------------------------------------\n",
    "A = np.array([[2, 0, 0, 0],\n",
    "              [1, 1.5, 0, 0],\n",
    "              [0, -3, 0.5, 0],\n",
    "              [2, -2, 1, 1]])\n",
    "\n",
    "b = np.array([[3],[4.5],[-6.6],[0.8]])\n",
    "\n",
    "print(\"Resultados de x:\")\n",
    "x = factorizacionLU(A, b)\n",
    "print(x)"
   ]
  },
  {
   "cell_type": "code",
   "execution_count": 8,
   "metadata": {},
   "outputs": [
    {
     "name": "stdout",
     "output_type": "stream",
     "text": [
      "[[ 1.5]\n",
      " [ 2. ]\n",
      " [-1.2]\n",
      " [ 3. ]]\n"
     ]
    }
   ],
   "source": [
    "#comprobando con linalg.solve C\n",
    "lu, piv = la.lu_factor(A)\n",
    "x = la.lu_solve((lu, piv), b)\n",
    "print(x)"
   ]
  },
  {
   "cell_type": "code",
   "execution_count": 9,
   "metadata": {},
   "outputs": [
    {
     "name": "stdout",
     "output_type": "stream",
     "text": [
      "Resultados de x:\n",
      "[[[2.9398512 ]\n",
      "  [0.0706777 ]\n",
      "  [5.67773512]\n",
      "  [4.37981223]]]\n"
     ]
    }
   ],
   "source": [
    "#--------------------Ejercicio D------------------------------------\n",
    "A = np.array([[2.1756, 4.0231, -2.1732, 5.1967],\n",
    "              [-4.0231, 6, 0, 1.1973],\n",
    "              [-1, -5.2107, 1.1111, 0],\n",
    "              [6.0235, 7, 0, -4.1561]])\n",
    "\n",
    "b = np.array([[17.102],[-6.1593],[3.0004],[0]])\n",
    "\n",
    "print(\"Resultados de x:\")\n",
    "x = factorizacionLU(A, b)\n",
    "print(x)"
   ]
  },
  {
   "cell_type": "code",
   "execution_count": 10,
   "metadata": {},
   "outputs": [
    {
     "name": "stdout",
     "output_type": "stream",
     "text": [
      "[[2.9398512 ]\n",
      " [0.0706777 ]\n",
      " [5.67773512]\n",
      " [4.37981223]]\n"
     ]
    }
   ],
   "source": [
    "#comprobando con linalg.solve D\n",
    "lu, piv = la.lu_factor(A)\n",
    "x = la.lu_solve((lu, piv), b)\n",
    "print(x)"
   ]
  },
  {
   "cell_type": "markdown",
   "metadata": {},
   "source": [
    "# Conclusion: \n",
    "Utilizando algunas herramientas del modulo linalg para comprobar mis resultados, puedo observar que mi algoritmo tiene una presición acertada y segun mis investigaciones este algoritmo es mas eficiente para cuando se deben resolver numerosos sistemas con los mismo coeficientes en A pero disitintos terminos en b"
   ]
  },
  {
   "cell_type": "code",
   "execution_count": null,
   "metadata": {},
   "outputs": [],
   "source": []
  }
 ],
 "metadata": {
  "kernelspec": {
   "display_name": "Python 3",
   "language": "python",
   "name": "python3"
  },
  "language_info": {
   "codemirror_mode": {
    "name": "ipython",
    "version": 3
   },
   "file_extension": ".py",
   "mimetype": "text/x-python",
   "name": "python",
   "nbconvert_exporter": "python",
   "pygments_lexer": "ipython3",
   "version": "3.8.3"
  }
 },
 "nbformat": 4,
 "nbformat_minor": 4
}
