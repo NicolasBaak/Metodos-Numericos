{
 "cells": [
  {
   "cell_type": "markdown",
   "metadata": {},
   "source": [
    "<p style=\"text-align: center;\">LICENCIATURA EN CIENCIAS DE LA COMPUTACIÓN</p>\n",
    "<p style=\"text-align: center;\">*Métodos Numéricos*</p>\n",
    "<p style=\"text-align: center;\">**Practica No.6**</p>\n",
    "<p style=\"text-align: center;\">Nombre: Nicolas Alejandro Baak Poot</p>"
   ]
  },
  {
   "cell_type": "markdown",
   "metadata": {},
   "source": [
    "### Ejercicio 7.1.5"
   ]
  },
  {
   "cell_type": "markdown",
   "metadata": {},
   "source": [
    "Los sistemas lineales siguientes Ax = b tienen a x como la solución real y a ~x~ como una solución aproximada. Calcule || x - ~x~ ||(infinito) y || A~x~ - b||(infinito)"
   ]
  },
  {
   "cell_type": "code",
   "execution_count": 14,
   "metadata": {},
   "outputs": [],
   "source": [
    "import scipy.linalg as la\n",
    "import numpy as np"
   ]
  },
  {
   "cell_type": "markdown",
   "metadata": {},
   "source": [
    "## Funciones"
   ]
  },
  {
   "cell_type": "code",
   "execution_count": 15,
   "metadata": {},
   "outputs": [],
   "source": [
    "def calcularAx_b(A, b, x):\n",
    "    # longitud n\n",
    "    n = len(A)\n",
    "    r = np.zeros(n)\n",
    "    \n",
    "    #Calculamos Ax\n",
    "    for i in range(n):\n",
    "        r[i] = 0\n",
    "        for j in range(n):\n",
    "            r[i] += A[i, j]*x[j]\n",
    "    \n",
    "    # Restamos b\n",
    "    # Ax-b\n",
    "    for i in range(n):\n",
    "        r[i] = r[i] - b[i]\n",
    "   \n",
    "    return r"
   ]
  },
  {
   "cell_type": "code",
   "execution_count": 16,
   "metadata": {},
   "outputs": [],
   "source": [
    "def normaInfinito(x):\n",
    "    # Maximo elemento del valor absoluto del vector\n",
    "    x = np.abs(x)\n",
    "    maximo = x[0]\n",
    "    for i in range(len(x)):\n",
    "        if x[i]>maximo:\n",
    "            maximo = x[i]\n",
    "\n",
    "    return maximo"
   ]
  },
  {
   "cell_type": "code",
   "execution_count": 17,
   "metadata": {},
   "outputs": [],
   "source": [
    "#Esta es otra funcion alternativa usando numpy\n",
    "#para calcular la norma infinita de Ax - b\n",
    "\n",
    "def normaInfinitoAx_b(A, b, x):\n",
    "    return np.amax(np.abs((A@x)-b))"
   ]
  },
  {
   "cell_type": "code",
   "execution_count": 18,
   "metadata": {},
   "outputs": [],
   "source": [
    "def normaInfinitoX(x, x_r):\n",
    "    #Calcular la norma infinita de x - x_r\n",
    "    return np.amax(np.abs(x - x_r))"
   ]
  },
  {
   "cell_type": "markdown",
   "metadata": {},
   "source": [
    "## Resolver:"
   ]
  },
  {
   "cell_type": "code",
   "execution_count": 19,
   "metadata": {},
   "outputs": [
    {
     "name": "stdout",
     "output_type": "stream",
     "text": [
      "|| Ax_r - b || = 0.00020634920634921006\n",
      "\n",
      "|| x - x_r || = 0.0008571428571428619\n",
      "\n"
     ]
    }
   ],
   "source": [
    "# a.\n",
    "A = np.array([[1/2, 1/3],\n",
    "              [1/3, 1/4]])\n",
    "\n",
    "b = np.array([[1/63],[1/168]])\n",
    "x = np.array([[1/7],[-1/6]])\n",
    "x_r = np.array([[0.142],[-0.166]])\n",
    "\n",
    "#print(\"A =\\n{0}\\n\\nb =\\n{1}\\n\\nx = \\n{2}\\n\\nx_r =\\n{3}\".format(A,b,x,x_r))\n",
    "\n",
    "resultado = calcularAx_b(A, b, x_r)\n",
    "print(\"|| Ax_r - b || = {0}\\n\".format(normaInfinito(resultado)))\n",
    "print(\"|| x - x_r || = {0}\\n\".format(normaInfinitoX(x, x_r)))"
   ]
  },
  {
   "cell_type": "code",
   "execution_count": 20,
   "metadata": {},
   "outputs": [
    {
     "name": "stdout",
     "output_type": "stream",
     "text": [
      "scipy:\n",
      "|| Ax_r - b || = 0.00020634920634921006\n",
      "|| x - x_r || = 0.0008571428571428619\n",
      "\n"
     ]
    }
   ],
   "source": [
    "#Otro metodo:\n",
    "#Usando del modulo scipy.linalg, especificamente de la funcion .norm( x ,np.inf)\n",
    "print(\"scipy:\\n|| Ax_r - b || = {0}\".format(la.norm(A@x_r-b, np.inf)))\n",
    "print(\"|| x - x_r || = {0}\\n\".format(la.norm(x - x_r, np.inf)))"
   ]
  },
  {
   "cell_type": "code",
   "execution_count": 21,
   "metadata": {},
   "outputs": [
    {
     "name": "stdout",
     "output_type": "stream",
     "text": [
      "|| Ax_r - b || = 0.2699999999999996\n",
      "\n",
      "|| x - x_r || = 0.9000000000000004\n",
      "\n"
     ]
    }
   ],
   "source": [
    "#b\n",
    "A = np.array([[1, 2, 3],\n",
    "              [2, 3, 4],\n",
    "              [3, 4, 6]])\n",
    "\n",
    "b = np.array([[1],[-1],[2]])\n",
    "\n",
    "x = np.array([[0],[-7],[5]])\n",
    "\n",
    "x_r = np.array([[-0.33],[-7.9],[5.8]])\n",
    "\n",
    "#print(\"A =\\n{0}\\n\\nb =\\n{1}\\n\\nx = \\n{2}\\n\\nx_r =\\n{3}\".format(A,b,x,x_r))\n",
    "resultado = calcularAx_b(A, b, x_r)\n",
    "print(\"|| Ax_r - b || = {0}\\n\".format(normaInfinito(resultado)))\n",
    "print(\"|| x - x_r || = {0}\\n\".format(normaInfinitoX(x, x_r)))"
   ]
  },
  {
   "cell_type": "code",
   "execution_count": 22,
   "metadata": {},
   "outputs": [
    {
     "name": "stdout",
     "output_type": "stream",
     "text": [
      "scipy:\n",
      "|| Ax_r - b || = 0.2699999999999996\n",
      "\n",
      "|| x - x_r || = 0.9000000000000004\n",
      "\n"
     ]
    }
   ],
   "source": [
    "#Otro metodo:\n",
    "#Usando del modulo scipy.linalg, especificamente de la funcion .norm( x ,np.inf)\n",
    "#numpy cuenta con la misma funcion\n",
    "\n",
    "print(\"scipy:\\n|| Ax_r - b || = {0}\\n\".format(la.norm(A@x_r-b, np.inf)))\n",
    "print(\"|| x - x_r || = {0}\\n\".format(la.norm(x - x_r, np.inf)))"
   ]
  },
  {
   "cell_type": "code",
   "execution_count": 23,
   "metadata": {},
   "outputs": [
    {
     "name": "stdout",
     "output_type": "stream",
     "text": [
      "|| Ax_r - b || = 0.29999999999999716\n",
      "\n",
      "|| x - x_r || = 0.5\n",
      "\n"
     ]
    }
   ],
   "source": [
    "#c\n",
    "A = np.array([[1, 2, 3],\n",
    "              [2, 3, 4],\n",
    "              [3, 4, 6]])\n",
    "\n",
    "b = np.array([[1],[-1],[2]])\n",
    "\n",
    "x = np.array([[0],[-7],[5]])\n",
    "\n",
    "x_r = np.array([[-0.2],[-7.5],[5.4]])\n",
    "\n",
    "#print(\"A =\\n{0}\\n\\nb =\\n{1}\\n\\nx = \\n{2}\\n\\nx_r =\\n{3}\".format(A,b,x,x_r))\n",
    "resultado = calcularAx_b(A, b, x_r)\n",
    "print(\"|| Ax_r - b || = {0}\\n\".format(normaInfinito(resultado)))\n",
    "print(\"|| x - x_r || = {0}\\n\".format(normaInfinitoX(x, x_r)))"
   ]
  },
  {
   "cell_type": "code",
   "execution_count": 24,
   "metadata": {},
   "outputs": [
    {
     "name": "stdout",
     "output_type": "stream",
     "text": [
      "scipy:\n",
      "|| Ax_r - b || = 0.29999999999999716\n",
      "\n",
      "|| x - x_r || = 0.5\n",
      "\n"
     ]
    }
   ],
   "source": [
    "#Otro metodo:\n",
    "#Usando del modulo scipy.linalg, especificamente de la funcion .norm( x ,np.inf)\n",
    "#ademas numpy cuenta con la misma funcion\n",
    "\n",
    "print(\"scipy:\\n|| Ax_r - b || = {0}\\n\".format(la.norm(A@x_r-b, np.inf)))\n",
    "print(\"|| x - x_r || = {0}\\n\".format(la.norm(x - x_r, np.inf)))"
   ]
  },
  {
   "cell_type": "code",
   "execution_count": 25,
   "metadata": {},
   "outputs": [
    {
     "name": "stdout",
     "output_type": "stream",
     "text": [
      "|| Ax_r - b || = 0.3200000000000003\n",
      "\n",
      "|| x - x_r || = 0.06551700000000005\n",
      "\n"
     ]
    }
   ],
   "source": [
    "#d\n",
    "A = np.array([[0.04, 0.01, -0.01],\n",
    "              [0.2, 0.5, -0.2],\n",
    "              [1, 2, 4]])\n",
    "\n",
    "b = np.array([[0.06],[0.3],[11]])\n",
    "\n",
    "x = np.array([[1.827586],[0.6551724], [1.965517]])\n",
    "\n",
    "x_r = np.array([[1.8],[0.64],[1.9]])\n",
    "\n",
    "#print(\"A =\\n{0}\\n\\nb =\\n{1}\\n\\nx = \\n{2}\\n\\nx_r =\\n{3}\".format(A,b,x,x_r))\n",
    "resultado = calcularAx_b(A, b, x_r)\n",
    "print(\"|| Ax_r - b || = {0}\\n\".format(normaInfinito(resultado)))\n",
    "print(\"|| x - x_r || = {0}\\n\".format(normaInfinitoX(x, x_r)))"
   ]
  },
  {
   "cell_type": "code",
   "execution_count": 26,
   "metadata": {},
   "outputs": [
    {
     "name": "stdout",
     "output_type": "stream",
     "text": [
      "scipy:\n",
      "|| Ax_r - b || = 0.3200000000000003\n",
      "\n",
      "|| x - x_r || = 0.06551700000000005\n",
      "\n"
     ]
    }
   ],
   "source": [
    "#Otro metodo:\n",
    "# Usando del modulo scipy.linalg, especificamente de la funcion .norm( x ,np.inf)\n",
    "# ademas numpy cuenta con la misma funcion\n",
    "\n",
    "print(\"scipy:\\n|| Ax_r - b || = {0}\\n\".format(la.norm(A@x_r-b, np.inf)))\n",
    "print(\"|| x - x_r || = {0}\\n\".format(la.norm(x - x_r, np.inf)))\n"
   ]
  },
  {
   "cell_type": "markdown",
   "metadata": {},
   "source": [
    "### Conclusión"
   ]
  },
  {
   "cell_type": "markdown",
   "metadata": {},
   "source": [
    "Probe con varios metodos y utilizando las herramientas de numpy, la versatilidad de numpy para resolver algoritmos es increible y facilita mucho trabajo, ademas de ofrecer mucha precisión en los resultados"
   ]
  },
  {
   "cell_type": "code",
   "execution_count": null,
   "metadata": {},
   "outputs": [],
   "source": []
  }
 ],
 "metadata": {
  "kernelspec": {
   "display_name": "Python 3",
   "language": "python",
   "name": "python3"
  },
  "language_info": {
   "codemirror_mode": {
    "name": "ipython",
    "version": 3
   },
   "file_extension": ".py",
   "mimetype": "text/x-python",
   "name": "python",
   "nbconvert_exporter": "python",
   "pygments_lexer": "ipython3",
   "version": "3.8.3"
  }
 },
 "nbformat": 4,
 "nbformat_minor": 4
}
